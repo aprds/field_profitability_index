{
 "cells": [
  {
   "cell_type": "markdown",
   "metadata": {},
   "source": [
    "## Field Profitability Index Prediction\n",
    "---"
   ]
  },
  {
   "cell_type": "code",
   "execution_count": 94,
   "metadata": {},
   "outputs": [],
   "source": [
    "import matplotlib.pyplot as plt\n",
    "import numpy as np\n",
    "import pandas as pd\n",
    "import seaborn as sns\n",
    "\n",
    "plt.rcParams['figure.figsize'] = (15.0, 7.0)\n",
    "sns.set_theme()"
   ]
  },
  {
   "cell_type": "code",
   "execution_count": 95,
   "metadata": {},
   "outputs": [
    {
     "data": {
      "text/html": [
       "<div>\n",
       "<style scoped>\n",
       "    .dataframe tbody tr th:only-of-type {\n",
       "        vertical-align: middle;\n",
       "    }\n",
       "\n",
       "    .dataframe tbody tr th {\n",
       "        vertical-align: top;\n",
       "    }\n",
       "\n",
       "    .dataframe thead th {\n",
       "        text-align: right;\n",
       "    }\n",
       "</style>\n",
       "<table border=\"1\" class=\"dataframe\">\n",
       "  <thead>\n",
       "    <tr style=\"text-align: right;\">\n",
       "      <th></th>\n",
       "      <th>fluid</th>\n",
       "      <th>field_name</th>\n",
       "      <th>operator</th>\n",
       "      <th>project_status</th>\n",
       "      <th>project_level</th>\n",
       "      <th>inplace</th>\n",
       "      <th>depth</th>\n",
       "      <th>temp</th>\n",
       "      <th>poro</th>\n",
       "      <th>perm</th>\n",
       "      <th>...</th>\n",
       "      <th>api_dens</th>\n",
       "      <th>visc</th>\n",
       "      <th>cap_cost</th>\n",
       "      <th>opr_cost</th>\n",
       "      <th>total_cost</th>\n",
       "      <th>avg_fluid_rate</th>\n",
       "      <th>location</th>\n",
       "      <th>region</th>\n",
       "      <th>NPV</th>\n",
       "      <th>PI</th>\n",
       "    </tr>\n",
       "  </thead>\n",
       "  <tbody>\n",
       "    <tr>\n",
       "      <th>0</th>\n",
       "      <td>Gas</td>\n",
       "      <td>ALAS TUA WEST</td>\n",
       "      <td>EXXONMOBIL CEPU LTD.</td>\n",
       "      <td>ONSHORE</td>\n",
       "      <td>X1. Discovery under Evaluation</td>\n",
       "      <td>280.00</td>\n",
       "      <td>5627.0</td>\n",
       "      <td>NaN</td>\n",
       "      <td>0.231540</td>\n",
       "      <td>396.2948</td>\n",
       "      <td>...</td>\n",
       "      <td>0.654735</td>\n",
       "      <td>0.0</td>\n",
       "      <td>88.121670</td>\n",
       "      <td>7.390892</td>\n",
       "      <td>95.512562</td>\n",
       "      <td>61.136190</td>\n",
       "      <td>Jawa Timur</td>\n",
       "      <td>Jawa</td>\n",
       "      <td>219.373400</td>\n",
       "      <td>2.296802</td>\n",
       "    </tr>\n",
       "    <tr>\n",
       "      <th>1</th>\n",
       "      <td>Gas</td>\n",
       "      <td>APNC</td>\n",
       "      <td>PT PERTAMINA HULU ENERGI OFFSHORE NORTH WEST JAVA</td>\n",
       "      <td>OFFSHORE</td>\n",
       "      <td>X3. Development Not Viable</td>\n",
       "      <td>5.00</td>\n",
       "      <td>1588.0</td>\n",
       "      <td>NaN</td>\n",
       "      <td>0.371649</td>\n",
       "      <td>975.0449</td>\n",
       "      <td>...</td>\n",
       "      <td>0.769757</td>\n",
       "      <td>0.0</td>\n",
       "      <td>16.350820</td>\n",
       "      <td>0.482584</td>\n",
       "      <td>16.833404</td>\n",
       "      <td>8.260639</td>\n",
       "      <td>Jawa Barat</td>\n",
       "      <td>Jawa</td>\n",
       "      <td>6.763115</td>\n",
       "      <td>0.401768</td>\n",
       "    </tr>\n",
       "    <tr>\n",
       "      <th>2</th>\n",
       "      <td>Gas</td>\n",
       "      <td>APNX</td>\n",
       "      <td>PT PERTAMINA HULU ENERGI OFFSHORE NORTH WEST JAVA</td>\n",
       "      <td>OFFSHORE</td>\n",
       "      <td>X3. Development Not Viable</td>\n",
       "      <td>17.31</td>\n",
       "      <td>NaN</td>\n",
       "      <td>NaN</td>\n",
       "      <td>0.350870</td>\n",
       "      <td>1985.5620</td>\n",
       "      <td>...</td>\n",
       "      <td>0.774667</td>\n",
       "      <td>0.0</td>\n",
       "      <td>31.212980</td>\n",
       "      <td>5.444560</td>\n",
       "      <td>36.657540</td>\n",
       "      <td>0.209892</td>\n",
       "      <td>Jawa Barat</td>\n",
       "      <td>Jawa</td>\n",
       "      <td>25.005370</td>\n",
       "      <td>0.682134</td>\n",
       "    </tr>\n",
       "    <tr>\n",
       "      <th>3</th>\n",
       "      <td>Gas</td>\n",
       "      <td>BEKAPAI</td>\n",
       "      <td>PT PERTAMINA HULU MAHAKAM</td>\n",
       "      <td>BOTH</td>\n",
       "      <td>E8. Further Development Not Viable</td>\n",
       "      <td>7135.00</td>\n",
       "      <td>6383.0</td>\n",
       "      <td>76.45</td>\n",
       "      <td>0.201267</td>\n",
       "      <td>619.7617</td>\n",
       "      <td>...</td>\n",
       "      <td>0.783749</td>\n",
       "      <td>0.0</td>\n",
       "      <td>7.269243</td>\n",
       "      <td>15.765420</td>\n",
       "      <td>23.034663</td>\n",
       "      <td>15.833870</td>\n",
       "      <td>Selat Makasar</td>\n",
       "      <td>Kalimantan</td>\n",
       "      <td>3.810051</td>\n",
       "      <td>0.165405</td>\n",
       "    </tr>\n",
       "    <tr>\n",
       "      <th>4</th>\n",
       "      <td>Gas</td>\n",
       "      <td>BENTU DEEP</td>\n",
       "      <td>EMP BENTU LTD.</td>\n",
       "      <td>ONSHORE</td>\n",
       "      <td>X1. Discovery under Evaluation</td>\n",
       "      <td>15.90</td>\n",
       "      <td>2067.0</td>\n",
       "      <td>NaN</td>\n",
       "      <td>0.213011</td>\n",
       "      <td>108.1771</td>\n",
       "      <td>...</td>\n",
       "      <td>0.710626</td>\n",
       "      <td>0.0</td>\n",
       "      <td>6.147158</td>\n",
       "      <td>1.867879</td>\n",
       "      <td>8.015037</td>\n",
       "      <td>6.929915</td>\n",
       "      <td>Riau</td>\n",
       "      <td>Sumatera</td>\n",
       "      <td>112.446500</td>\n",
       "      <td>14.029442</td>\n",
       "    </tr>\n",
       "  </tbody>\n",
       "</table>\n",
       "<p>5 rows × 21 columns</p>\n",
       "</div>"
      ],
      "text/plain": [
       "  fluid     field_name                                           operator  \\\n",
       "0   Gas  ALAS TUA WEST                               EXXONMOBIL CEPU LTD.   \n",
       "1   Gas           APNC  PT PERTAMINA HULU ENERGI OFFSHORE NORTH WEST JAVA   \n",
       "2   Gas           APNX  PT PERTAMINA HULU ENERGI OFFSHORE NORTH WEST JAVA   \n",
       "3   Gas        BEKAPAI                          PT PERTAMINA HULU MAHAKAM   \n",
       "4   Gas     BENTU DEEP                                     EMP BENTU LTD.   \n",
       "\n",
       "  project_status                       project_level  inplace   depth   temp  \\\n",
       "0        ONSHORE      X1. Discovery under Evaluation   280.00  5627.0    NaN   \n",
       "1       OFFSHORE          X3. Development Not Viable     5.00  1588.0    NaN   \n",
       "2       OFFSHORE          X3. Development Not Viable    17.31     NaN    NaN   \n",
       "3           BOTH  E8. Further Development Not Viable  7135.00  6383.0  76.45   \n",
       "4        ONSHORE      X1. Discovery under Evaluation    15.90  2067.0    NaN   \n",
       "\n",
       "       poro       perm  ...  api_dens  visc   cap_cost   opr_cost  total_cost  \\\n",
       "0  0.231540   396.2948  ...  0.654735   0.0  88.121670   7.390892   95.512562   \n",
       "1  0.371649   975.0449  ...  0.769757   0.0  16.350820   0.482584   16.833404   \n",
       "2  0.350870  1985.5620  ...  0.774667   0.0  31.212980   5.444560   36.657540   \n",
       "3  0.201267   619.7617  ...  0.783749   0.0   7.269243  15.765420   23.034663   \n",
       "4  0.213011   108.1771  ...  0.710626   0.0   6.147158   1.867879    8.015037   \n",
       "\n",
       "   avg_fluid_rate       location      region         NPV         PI  \n",
       "0       61.136190     Jawa Timur        Jawa  219.373400   2.296802  \n",
       "1        8.260639     Jawa Barat        Jawa    6.763115   0.401768  \n",
       "2        0.209892     Jawa Barat        Jawa   25.005370   0.682134  \n",
       "3       15.833870  Selat Makasar  Kalimantan    3.810051   0.165405  \n",
       "4        6.929915           Riau    Sumatera  112.446500  14.029442  \n",
       "\n",
       "[5 rows x 21 columns]"
      ]
     },
     "execution_count": 95,
     "metadata": {},
     "output_type": "execute_result"
    }
   ],
   "source": [
    "esdc_raw = pd.read_excel('Data/esdc_raw.xlsx')\n",
    "esdc_raw.head()"
   ]
  },
  {
   "cell_type": "code",
   "execution_count": 96,
   "metadata": {},
   "outputs": [
    {
     "data": {
      "text/plain": [
       "790"
      ]
     },
     "execution_count": 96,
     "metadata": {},
     "output_type": "execute_result"
    }
   ],
   "source": [
    "esdc_raw.PI.count()"
   ]
  },
  {
   "cell_type": "markdown",
   "metadata": {},
   "source": [
    "---\n",
    "__Data Preprocessing__"
   ]
  },
  {
   "cell_type": "code",
   "execution_count": 97,
   "metadata": {},
   "outputs": [
    {
     "data": {
      "text/html": [
       "<div>\n",
       "<style scoped>\n",
       "    .dataframe tbody tr th:only-of-type {\n",
       "        vertical-align: middle;\n",
       "    }\n",
       "\n",
       "    .dataframe tbody tr th {\n",
       "        vertical-align: top;\n",
       "    }\n",
       "\n",
       "    .dataframe thead th {\n",
       "        text-align: right;\n",
       "    }\n",
       "</style>\n",
       "<table border=\"1\" class=\"dataframe\">\n",
       "  <thead>\n",
       "    <tr style=\"text-align: right;\">\n",
       "      <th></th>\n",
       "      <th>Total</th>\n",
       "      <th>Percent</th>\n",
       "    </tr>\n",
       "  </thead>\n",
       "  <tbody>\n",
       "    <tr>\n",
       "      <th>temp</th>\n",
       "      <td>392</td>\n",
       "      <td>49.620253</td>\n",
       "    </tr>\n",
       "    <tr>\n",
       "      <th>depth</th>\n",
       "      <td>128</td>\n",
       "      <td>16.202532</td>\n",
       "    </tr>\n",
       "    <tr>\n",
       "      <th>region</th>\n",
       "      <td>56</td>\n",
       "      <td>7.088608</td>\n",
       "    </tr>\n",
       "    <tr>\n",
       "      <th>field_name</th>\n",
       "      <td>1</td>\n",
       "      <td>0.126582</td>\n",
       "    </tr>\n",
       "    <tr>\n",
       "      <th>fluid</th>\n",
       "      <td>0</td>\n",
       "      <td>0.000000</td>\n",
       "    </tr>\n",
       "    <tr>\n",
       "      <th>visc</th>\n",
       "      <td>0</td>\n",
       "      <td>0.000000</td>\n",
       "    </tr>\n",
       "    <tr>\n",
       "      <th>NPV</th>\n",
       "      <td>0</td>\n",
       "      <td>0.000000</td>\n",
       "    </tr>\n",
       "    <tr>\n",
       "      <th>location</th>\n",
       "      <td>0</td>\n",
       "      <td>0.000000</td>\n",
       "    </tr>\n",
       "    <tr>\n",
       "      <th>avg_fluid_rate</th>\n",
       "      <td>0</td>\n",
       "      <td>0.000000</td>\n",
       "    </tr>\n",
       "    <tr>\n",
       "      <th>total_cost</th>\n",
       "      <td>0</td>\n",
       "      <td>0.000000</td>\n",
       "    </tr>\n",
       "    <tr>\n",
       "      <th>opr_cost</th>\n",
       "      <td>0</td>\n",
       "      <td>0.000000</td>\n",
       "    </tr>\n",
       "    <tr>\n",
       "      <th>cap_cost</th>\n",
       "      <td>0</td>\n",
       "      <td>0.000000</td>\n",
       "    </tr>\n",
       "    <tr>\n",
       "      <th>saturate</th>\n",
       "      <td>0</td>\n",
       "      <td>0.000000</td>\n",
       "    </tr>\n",
       "    <tr>\n",
       "      <th>api_dens</th>\n",
       "      <td>0</td>\n",
       "      <td>0.000000</td>\n",
       "    </tr>\n",
       "    <tr>\n",
       "      <th>perm</th>\n",
       "      <td>0</td>\n",
       "      <td>0.000000</td>\n",
       "    </tr>\n",
       "    <tr>\n",
       "      <th>poro</th>\n",
       "      <td>0</td>\n",
       "      <td>0.000000</td>\n",
       "    </tr>\n",
       "    <tr>\n",
       "      <th>inplace</th>\n",
       "      <td>0</td>\n",
       "      <td>0.000000</td>\n",
       "    </tr>\n",
       "    <tr>\n",
       "      <th>project_level</th>\n",
       "      <td>0</td>\n",
       "      <td>0.000000</td>\n",
       "    </tr>\n",
       "    <tr>\n",
       "      <th>project_status</th>\n",
       "      <td>0</td>\n",
       "      <td>0.000000</td>\n",
       "    </tr>\n",
       "    <tr>\n",
       "      <th>operator</th>\n",
       "      <td>0</td>\n",
       "      <td>0.000000</td>\n",
       "    </tr>\n",
       "    <tr>\n",
       "      <th>PI</th>\n",
       "      <td>0</td>\n",
       "      <td>0.000000</td>\n",
       "    </tr>\n",
       "  </tbody>\n",
       "</table>\n",
       "</div>"
      ],
      "text/plain": [
       "                Total    Percent\n",
       "temp              392  49.620253\n",
       "depth             128  16.202532\n",
       "region             56   7.088608\n",
       "field_name          1   0.126582\n",
       "fluid               0   0.000000\n",
       "visc                0   0.000000\n",
       "NPV                 0   0.000000\n",
       "location            0   0.000000\n",
       "avg_fluid_rate      0   0.000000\n",
       "total_cost          0   0.000000\n",
       "opr_cost            0   0.000000\n",
       "cap_cost            0   0.000000\n",
       "saturate            0   0.000000\n",
       "api_dens            0   0.000000\n",
       "perm                0   0.000000\n",
       "poro                0   0.000000\n",
       "inplace             0   0.000000\n",
       "project_level       0   0.000000\n",
       "project_status      0   0.000000\n",
       "operator            0   0.000000\n",
       "PI                  0   0.000000"
      ]
     },
     "execution_count": 97,
     "metadata": {},
     "output_type": "execute_result"
    }
   ],
   "source": [
    "total = esdc_raw.isnull().sum().sort_values(ascending=False)\n",
    "percent = (esdc_raw.isnull().sum()/esdc_raw.isnull().count()).sort_values(ascending=False)*100\n",
    "missing_data = pd.concat([total, percent], axis=1, keys=['Total', 'Percent'])\n",
    "missing_data"
   ]
  },
  {
   "cell_type": "markdown",
   "metadata": {},
   "source": [
    "> We have 4 major missing values. In oil and gas industry those top 3 variables are crucial because they are often related to development cost and then PI. To obtain a realiable model in PI prediction we decided to solve these issues"
   ]
  },
  {
   "cell_type": "markdown",
   "metadata": {},
   "source": [
    "_Region_"
   ]
  },
  {
   "cell_type": "markdown",
   "metadata": {},
   "source": [
    "> We notice that 56 region's data are missing, but when we look at those data we find it is difficult to tie the region by using another features. Despite missing values we decide to exclude those 56 data from dataset because they just represent arround 7% of total. This deletion refeals some dilemmas that we are aiming to use as many as possible datas but we are bounded to classification problem that the model we are aiming to make is capable in making prediction in PI value for a certain region so we conclude that inputation in region could lead to model degradation and quality issue."
   ]
  },
  {
   "cell_type": "code",
   "execution_count": 98,
   "metadata": {},
   "outputs": [],
   "source": [
    "esdc_raw = esdc_raw.loc[~esdc_raw.region.isna(), :]"
   ]
  },
  {
   "cell_type": "markdown",
   "metadata": {},
   "source": [
    "_Temperature & Depth_"
   ]
  },
  {
   "cell_type": "code",
   "execution_count": 99,
   "metadata": {},
   "outputs": [
    {
     "data": {
      "image/png": "[encoded data removed]",
      "text/plain": [
       "<Figure size 1080x504 with 1 Axes>"
      ]
     },
     "metadata": {},
     "output_type": "display_data"
    }
   ],
   "source": [
    "sns.scatterplot(x=esdc_raw.depth, y=esdc_raw.loc[~esdc_raw.temp.isna(), 'temp'], hue=esdc_raw.region)\n",
    "plt.title('FIG-1: Depth vs Temperature');"
   ]
  },
  {
   "cell_type": "markdown",
   "metadata": {},
   "source": [
    "> `Depth` has strong relation to `temp` as the drill string going deeper and so does the temperature. We can use this natural phenomena to predict temperature by using `depth`. As predictor, we have to solve `depth` at first to eliminate those missing datas, inconsistencies & outliers."
   ]
  },
  {
   "cell_type": "markdown",
   "metadata": {},
   "source": [
    "> FIG-2 shows the depth distribution for indonesian oil & gas field (reservoir) categorized by their location and project status whether it is located on offshore or onshore or both. From FIG-2 we are informed that the depth could vary depending on its location and region."
   ]
  },
  {
   "cell_type": "code",
   "execution_count": 100,
   "metadata": {},
   "outputs": [
    {
     "data": {
      "image/png": "[encoded data removed]",
      "text/plain": [
       "<Figure size 1080x504 with 1 Axes>"
      ]
     },
     "metadata": {},
     "output_type": "display_data"
    }
   ],
   "source": [
    "sns.boxplot(x=esdc_raw.depth, y=esdc_raw.region, hue=esdc_raw.project_status)\n",
    "plt.title('FIG-2: Depth, Location, and, Region');"
   ]
  },
  {
   "cell_type": "markdown",
   "metadata": {},
   "source": [
    "> On FIG-2 we notice that some anomalies exist and need to be solved. First issue relate to depth that has value == 0 which is impossible to have such shallow oil/ gas deposite so we will replace those values as well as NAN (second issue) by using region-project_status clustered median. We believe median is suitable as replacement because based on business knowledge those value are consistent. Moving to eastern Indonesia we are expecting deeper sea and reservoir but not in Jawa-Kalimantan-Sumatera whose median values are quite similar."
   ]
  },
  {
   "cell_type": "markdown",
   "metadata": {},
   "source": [
    "> The code below aims to calculate median value of `depth` for each region and their `project_status`. This code excludes depth==0 to obtain the right median values"
   ]
  },
  {
   "cell_type": "code",
   "execution_count": 101,
   "metadata": {},
   "outputs": [],
   "source": [
    "jawa = esdc_raw.loc[(esdc_raw.depth != 0) & (esdc_raw.region == 'Jawa')].groupby('project_status')['depth'].median()\n",
    "kalimantan = esdc_raw.loc[(esdc_raw.depth != 0) & (esdc_raw.region == 'Kalimantan')].groupby('project_status')['depth'].median()\n",
    "sumatera = esdc_raw.loc[(esdc_raw.depth != 0) & (esdc_raw.region == 'Sumatera')].groupby('project_status')['depth'].median()\n",
    "timur = esdc_raw.loc[(esdc_raw.depth != 0) & (esdc_raw.region == 'Timur')].groupby('project_status')['depth'].median()"
   ]
  },
  {
   "cell_type": "markdown",
   "metadata": {},
   "source": [
    "> By having Grouby variable on region code above we are able to inpute median value to replace either NaN and 0 on `depth`. The code below show how it is done"
   ]
  },
  {
   "cell_type": "code",
   "execution_count": 102,
   "metadata": {},
   "outputs": [],
   "source": [
    "esdc_raw.loc[((esdc_raw.depth == 0) | (esdc_raw.depth.isna())), 'depth'] = esdc_raw.apply(lambda row: jawa[row['project_status']] if (row['region'] == 'Jawa')  else\n",
    "                    kalimantan[row['project_status']] if (row['region'] == 'Kalimantan') else\n",
    "                    sumatera[row['project_status']] if (row['region'] == 'Sumatera') else\n",
    "                    timur[row['project_status']] if (row['region'] == 'Timur') else row['depth'], axis=1)"
   ]
  },
  {
   "cell_type": "code",
   "execution_count": 103,
   "metadata": {},
   "outputs": [
    {
     "data": {
      "image/png": "[encoded data removed]",
      "text/plain": [
       "<Figure size 1080x504 with 1 Axes>"
      ]
     },
     "metadata": {},
     "output_type": "display_data"
    }
   ],
   "source": [
    "sns.boxplot(x=esdc_raw.depth, y=esdc_raw.region, hue=esdc_raw.project_status)\n",
    "plt.title('FIG-3: Depth, Location, and, Region (After NaN & 0 Depth Imputation)');"
   ]
  },
  {
   "cell_type": "markdown",
   "metadata": {},
   "source": [
    "> Sanitiy Check after 0 & NaN `depth` imputation"
   ]
  },
  {
   "cell_type": "code",
   "execution_count": 104,
   "metadata": {},
   "outputs": [
    {
     "data": {
      "text/plain": [
       "Series([], dtype: int64)"
      ]
     },
     "execution_count": 104,
     "metadata": {},
     "output_type": "execute_result"
    }
   ],
   "source": [
    "esdc_raw.loc[esdc_raw.depth == 0, ['depth', 'temp', 'location', 'region', 'project_status']].value_counts()"
   ]
  },
  {
   "cell_type": "code",
   "execution_count": 105,
   "metadata": {},
   "outputs": [
    {
     "data": {
      "text/plain": [
       "Series([], dtype: int64)"
      ]
     },
     "execution_count": 105,
     "metadata": {},
     "output_type": "execute_result"
    }
   ],
   "source": [
    "esdc_raw.loc[esdc_raw.depth.isna(), ['depth', 'temp', 'location', 'region', 'project_status']].value_counts()"
   ]
  },
  {
   "cell_type": "markdown",
   "metadata": {},
   "source": [
    "Temperature"
   ]
  },
  {
   "cell_type": "markdown",
   "metadata": {},
   "source": [
    "> As mentioned above that `temp` has strong relation with `depth` lineary and this phenomenon has been known and confirmed by geological knowledge and petroleum physics so we are going to predict `temp` and doing inputation for missing value and 0 by using linear regression"
   ]
  },
  {
   "cell_type": "markdown",
   "metadata": {},
   "source": [
    "> Based on visual and theory representation, we believe the trend of `temp` will follow logaritmic shape so we decide to transform `depth` and `temp` to become logaritmic value"
   ]
  },
  {
   "cell_type": "code",
   "execution_count": 106,
   "metadata": {},
   "outputs": [],
   "source": [
    "import statsmodels.api as sm\n",
    "from statsmodels.formula.api import ols"
   ]
  },
  {
   "cell_type": "code",
   "execution_count": 107,
   "metadata": {},
   "outputs": [
    {
     "data": {
      "text/html": [
       "<div>\n",
       "<style scoped>\n",
       "    .dataframe tbody tr th:only-of-type {\n",
       "        vertical-align: middle;\n",
       "    }\n",
       "\n",
       "    .dataframe tbody tr th {\n",
       "        vertical-align: top;\n",
       "    }\n",
       "\n",
       "    .dataframe thead th {\n",
       "        text-align: right;\n",
       "    }\n",
       "</style>\n",
       "<table border=\"1\" class=\"dataframe\">\n",
       "  <thead>\n",
       "    <tr style=\"text-align: right;\">\n",
       "      <th></th>\n",
       "      <th>temp</th>\n",
       "      <th>depth</th>\n",
       "    </tr>\n",
       "  </thead>\n",
       "  <tbody>\n",
       "    <tr>\n",
       "      <th>count</th>\n",
       "      <td>262.000000</td>\n",
       "      <td>262.000000</td>\n",
       "    </tr>\n",
       "    <tr>\n",
       "      <th>mean</th>\n",
       "      <td>94.028648</td>\n",
       "      <td>5303.801889</td>\n",
       "    </tr>\n",
       "    <tr>\n",
       "      <th>std</th>\n",
       "      <td>32.615539</td>\n",
       "      <td>3064.216780</td>\n",
       "    </tr>\n",
       "    <tr>\n",
       "      <th>min</th>\n",
       "      <td>38.500000</td>\n",
       "      <td>328.000000</td>\n",
       "    </tr>\n",
       "    <tr>\n",
       "      <th>25%</th>\n",
       "      <td>69.300000</td>\n",
       "      <td>2752.500000</td>\n",
       "    </tr>\n",
       "    <tr>\n",
       "      <th>50%</th>\n",
       "      <td>88.550000</td>\n",
       "      <td>4678.500000</td>\n",
       "    </tr>\n",
       "    <tr>\n",
       "      <th>75%</th>\n",
       "      <td>116.050000</td>\n",
       "      <td>7100.000000</td>\n",
       "    </tr>\n",
       "    <tr>\n",
       "      <th>max</th>\n",
       "      <td>206.811000</td>\n",
       "      <td>12845.000000</td>\n",
       "    </tr>\n",
       "  </tbody>\n",
       "</table>\n",
       "</div>"
      ],
      "text/plain": [
       "             temp         depth\n",
       "count  262.000000    262.000000\n",
       "mean    94.028648   5303.801889\n",
       "std     32.615539   3064.216780\n",
       "min     38.500000    328.000000\n",
       "25%     69.300000   2752.500000\n",
       "50%     88.550000   4678.500000\n",
       "75%    116.050000   7100.000000\n",
       "max    206.811000  12845.000000"
      ]
     },
     "execution_count": 107,
     "metadata": {},
     "output_type": "execute_result"
    }
   ],
   "source": [
    "esdc_raw.loc[(~esdc_raw.temp.isna()) & (esdc_raw.temp != 0), ['temp', 'depth']].describe()"
   ]
  },
  {
   "cell_type": "code",
   "execution_count": 108,
   "metadata": {},
   "outputs": [],
   "source": [
    "esdc_raw_log = esdc_raw.loc[(~esdc_raw.temp.isna()) & (esdc_raw.temp != 0), ['temp', 'depth']].apply(lambda x: np.log(x))"
   ]
  },
  {
   "cell_type": "code",
   "execution_count": 109,
   "metadata": {},
   "outputs": [
    {
     "data": {
      "text/html": [
       "<div>\n",
       "<style scoped>\n",
       "    .dataframe tbody tr th:only-of-type {\n",
       "        vertical-align: middle;\n",
       "    }\n",
       "\n",
       "    .dataframe tbody tr th {\n",
       "        vertical-align: top;\n",
       "    }\n",
       "\n",
       "    .dataframe thead th {\n",
       "        text-align: right;\n",
       "    }\n",
       "</style>\n",
       "<table border=\"1\" class=\"dataframe\">\n",
       "  <thead>\n",
       "    <tr style=\"text-align: right;\">\n",
       "      <th></th>\n",
       "      <th>temp</th>\n",
       "      <th>depth</th>\n",
       "    </tr>\n",
       "  </thead>\n",
       "  <tbody>\n",
       "    <tr>\n",
       "      <th>count</th>\n",
       "      <td>262.000000</td>\n",
       "      <td>262.000000</td>\n",
       "    </tr>\n",
       "    <tr>\n",
       "      <th>mean</th>\n",
       "      <td>4.485022</td>\n",
       "      <td>8.381587</td>\n",
       "    </tr>\n",
       "    <tr>\n",
       "      <th>std</th>\n",
       "      <td>0.343751</td>\n",
       "      <td>0.670976</td>\n",
       "    </tr>\n",
       "    <tr>\n",
       "      <th>min</th>\n",
       "      <td>3.650658</td>\n",
       "      <td>5.793014</td>\n",
       "    </tr>\n",
       "    <tr>\n",
       "      <th>25%</th>\n",
       "      <td>4.238445</td>\n",
       "      <td>7.920264</td>\n",
       "    </tr>\n",
       "    <tr>\n",
       "      <th>50%</th>\n",
       "      <td>4.483567</td>\n",
       "      <td>8.450730</td>\n",
       "    </tr>\n",
       "    <tr>\n",
       "      <th>75%</th>\n",
       "      <td>4.754021</td>\n",
       "      <td>8.867850</td>\n",
       "    </tr>\n",
       "    <tr>\n",
       "      <th>max</th>\n",
       "      <td>5.331805</td>\n",
       "      <td>9.460710</td>\n",
       "    </tr>\n",
       "  </tbody>\n",
       "</table>\n",
       "</div>"
      ],
      "text/plain": [
       "             temp       depth\n",
       "count  262.000000  262.000000\n",
       "mean     4.485022    8.381587\n",
       "std      0.343751    0.670976\n",
       "min      3.650658    5.793014\n",
       "25%      4.238445    7.920264\n",
       "50%      4.483567    8.450730\n",
       "75%      4.754021    8.867850\n",
       "max      5.331805    9.460710"
      ]
     },
     "execution_count": 109,
     "metadata": {},
     "output_type": "execute_result"
    }
   ],
   "source": [
    "esdc_raw_log.describe()"
   ]
  },
  {
   "cell_type": "code",
   "execution_count": 110,
   "metadata": {},
   "outputs": [
    {
     "name": "stdout",
     "output_type": "stream",
     "text": [
      "                            OLS Regression Results                            \n",
      "==============================================================================\n",
      "Dep. Variable:                   temp   R-squared:                       0.533\n",
      "Model:                            OLS   Adj. R-squared:                  0.532\n",
      "Method:                 Least Squares   F-statistic:                     295.1\n",
      "Date:                Mon, 20 Jun 2022   Prob (F-statistic):           1.02e-44\n",
      "Time:                        09:55:17   Log-Likelihood:                 8.3725\n",
      "No. Observations:                 262   AIC:                            -12.75\n",
      "Df Residuals:                     260   BIC:                            -5.608\n",
      "Df Model:                           1                                         \n",
      "Covariance Type:                  HC3                                         \n",
      "==============================================================================\n",
      "                 coef    std err          z      P>|z|      [0.025      0.975]\n",
      "------------------------------------------------------------------------------\n",
      "Intercept      1.3489      0.181      7.469      0.000       0.995       1.703\n",
      "depth          0.3742      0.022     17.178      0.000       0.331       0.417\n",
      "==============================================================================\n",
      "Omnibus:                        1.987   Durbin-Watson:                   1.616\n",
      "Prob(Omnibus):                  0.370   Jarque-Bera (JB):                1.796\n",
      "Skew:                          -0.073   Prob(JB):                        0.407\n",
      "Kurtosis:                       3.379   Cond. No.                         107.\n",
      "==============================================================================\n",
      "\n",
      "Notes:\n",
      "[1] Standard Errors are heteroscedasticity robust (HC3)\n"
     ]
    }
   ],
   "source": [
    "mod_1 = ols(\"temp ~ depth\", data = esdc_raw_log)\n",
    "res_1 = mod_1.fit(cov_type='HC3')\n",
    "print(res_1.summary())"
   ]
  },
  {
   "cell_type": "markdown",
   "metadata": {},
   "source": [
    "> As shown on summary tabel above we quite certain that the linear relationship can be modeled properly judged by some values that underlained linear regression foundation. Those values informed us that the model are the best fitted model available (refer : Gauss-Markov)"
   ]
  },
  {
   "cell_type": "markdown",
   "metadata": {},
   "source": [
    "> Those values are:\n",
    "- Durbin watson = Near 2, which is suitable to conclude that our model are not performing some serious autocorrelation\n",
    "- F-stat (prob) = 1.02e-44, meaning `depth` has strong effect on temperature together with the intercept (< 0.05)\n",
    "- R-square = 0.532, meaning we can model/ explain more that 50% variance in `temp` by using `depth` alone\n",
    "- Prob (JB) = 0.407, meaning our model's residual are normaly distributed (> 0.05) and not performing some heteroskedastic\n",
    "- Multicollinearity = Not tested, but we can conclude this effect is not coming into play because we just use single `depth` variable"
   ]
  },
  {
   "cell_type": "code",
   "execution_count": 111,
   "metadata": {},
   "outputs": [],
   "source": [
    "esdc_raw['temp'] = esdc_raw.apply(lambda row: np.exp(1.3489 + np.log(row['depth'])*0.3742) if ((np.isnan(row['temp'])) \n",
    "                    | (row['temp'] == 0)) else row['temp'], axis=1)"
   ]
  },
  {
   "cell_type": "code",
   "execution_count": 112,
   "metadata": {},
   "outputs": [
    {
     "data": {
      "image/png": "[encoded data removed]",
      "text/plain": [
       "<Figure size 1080x504 with 1 Axes>"
      ]
     },
     "metadata": {},
     "output_type": "display_data"
    }
   ],
   "source": [
    "sns.scatterplot(x=esdc_raw.depth, y=esdc_raw.loc[~esdc_raw.temp.isna(), 'temp'], hue=esdc_raw.region)\n",
    "plt.title('FIG-4: Depth vs Temperature (After Cleaning');"
   ]
  },
  {
   "cell_type": "markdown",
   "metadata": {},
   "source": [
    "_Field Name_"
   ]
  },
  {
   "cell_type": "markdown",
   "metadata": {},
   "source": [
    "> We notice that 1 field does'nt have field name but we decide to input this missing value in field_name by using dummy name as PETROGAS_FIELD"
   ]
  },
  {
   "cell_type": "code",
   "execution_count": 113,
   "metadata": {},
   "outputs": [
    {
     "data": {
      "text/html": [
       "<div>\n",
       "<style scoped>\n",
       "    .dataframe tbody tr th:only-of-type {\n",
       "        vertical-align: middle;\n",
       "    }\n",
       "\n",
       "    .dataframe tbody tr th {\n",
       "        vertical-align: top;\n",
       "    }\n",
       "\n",
       "    .dataframe thead th {\n",
       "        text-align: right;\n",
       "    }\n",
       "</style>\n",
       "<table border=\"1\" class=\"dataframe\">\n",
       "  <thead>\n",
       "    <tr style=\"text-align: right;\">\n",
       "      <th></th>\n",
       "      <th>fluid</th>\n",
       "      <th>field_name</th>\n",
       "      <th>operator</th>\n",
       "      <th>project_status</th>\n",
       "      <th>project_level</th>\n",
       "      <th>inplace</th>\n",
       "      <th>depth</th>\n",
       "      <th>temp</th>\n",
       "      <th>poro</th>\n",
       "      <th>perm</th>\n",
       "      <th>...</th>\n",
       "      <th>api_dens</th>\n",
       "      <th>visc</th>\n",
       "      <th>cap_cost</th>\n",
       "      <th>opr_cost</th>\n",
       "      <th>total_cost</th>\n",
       "      <th>avg_fluid_rate</th>\n",
       "      <th>location</th>\n",
       "      <th>region</th>\n",
       "      <th>NPV</th>\n",
       "      <th>PI</th>\n",
       "    </tr>\n",
       "  </thead>\n",
       "  <tbody>\n",
       "    <tr>\n",
       "      <th>82</th>\n",
       "      <td>Gas</td>\n",
       "      <td>NaN</td>\n",
       "      <td>PETROGAS (BASIN) LTD.</td>\n",
       "      <td>ONSHORE</td>\n",
       "      <td>E0. On Production</td>\n",
       "      <td>15.2</td>\n",
       "      <td>8500.0</td>\n",
       "      <td>113.817329</td>\n",
       "      <td>0.208427</td>\n",
       "      <td>1843.266</td>\n",
       "      <td>...</td>\n",
       "      <td>0.707603</td>\n",
       "      <td>0.0</td>\n",
       "      <td>32.91079</td>\n",
       "      <td>6.594186</td>\n",
       "      <td>39.504976</td>\n",
       "      <td>7.070269</td>\n",
       "      <td>Papua Barat</td>\n",
       "      <td>Timur</td>\n",
       "      <td>12.41523</td>\n",
       "      <td>0.31427</td>\n",
       "    </tr>\n",
       "  </tbody>\n",
       "</table>\n",
       "<p>1 rows × 21 columns</p>\n",
       "</div>"
      ],
      "text/plain": [
       "   fluid field_name               operator project_status      project_level  \\\n",
       "82   Gas        NaN  PETROGAS (BASIN) LTD.        ONSHORE  E0. On Production   \n",
       "\n",
       "    inplace   depth        temp      poro      perm  ...  api_dens  visc  \\\n",
       "82     15.2  8500.0  113.817329  0.208427  1843.266  ...  0.707603   0.0   \n",
       "\n",
       "    cap_cost  opr_cost  total_cost  avg_fluid_rate     location region  \\\n",
       "82  32.91079  6.594186   39.504976        7.070269  Papua Barat  Timur   \n",
       "\n",
       "         NPV       PI  \n",
       "82  12.41523  0.31427  \n",
       "\n",
       "[1 rows x 21 columns]"
      ]
     },
     "execution_count": 113,
     "metadata": {},
     "output_type": "execute_result"
    }
   ],
   "source": [
    "esdc_raw.loc[esdc_raw.field_name.isna(), :]"
   ]
  },
  {
   "cell_type": "code",
   "execution_count": 114,
   "metadata": {},
   "outputs": [],
   "source": [
    "esdc_raw.loc[esdc_raw.field_name.isna(), 'field_name'] = 'PETROGAS_FIELD'"
   ]
  },
  {
   "cell_type": "code",
   "execution_count": 115,
   "metadata": {},
   "outputs": [
    {
     "data": {
      "text/html": [
       "<div>\n",
       "<style scoped>\n",
       "    .dataframe tbody tr th:only-of-type {\n",
       "        vertical-align: middle;\n",
       "    }\n",
       "\n",
       "    .dataframe tbody tr th {\n",
       "        vertical-align: top;\n",
       "    }\n",
       "\n",
       "    .dataframe thead th {\n",
       "        text-align: right;\n",
       "    }\n",
       "</style>\n",
       "<table border=\"1\" class=\"dataframe\">\n",
       "  <thead>\n",
       "    <tr style=\"text-align: right;\">\n",
       "      <th></th>\n",
       "      <th>Total</th>\n",
       "      <th>Percent</th>\n",
       "    </tr>\n",
       "  </thead>\n",
       "  <tbody>\n",
       "    <tr>\n",
       "      <th>fluid</th>\n",
       "      <td>0</td>\n",
       "      <td>0.0</td>\n",
       "    </tr>\n",
       "    <tr>\n",
       "      <th>api_dens</th>\n",
       "      <td>0</td>\n",
       "      <td>0.0</td>\n",
       "    </tr>\n",
       "    <tr>\n",
       "      <th>NPV</th>\n",
       "      <td>0</td>\n",
       "      <td>0.0</td>\n",
       "    </tr>\n",
       "    <tr>\n",
       "      <th>region</th>\n",
       "      <td>0</td>\n",
       "      <td>0.0</td>\n",
       "    </tr>\n",
       "    <tr>\n",
       "      <th>location</th>\n",
       "      <td>0</td>\n",
       "      <td>0.0</td>\n",
       "    </tr>\n",
       "    <tr>\n",
       "      <th>avg_fluid_rate</th>\n",
       "      <td>0</td>\n",
       "      <td>0.0</td>\n",
       "    </tr>\n",
       "    <tr>\n",
       "      <th>total_cost</th>\n",
       "      <td>0</td>\n",
       "      <td>0.0</td>\n",
       "    </tr>\n",
       "    <tr>\n",
       "      <th>opr_cost</th>\n",
       "      <td>0</td>\n",
       "      <td>0.0</td>\n",
       "    </tr>\n",
       "    <tr>\n",
       "      <th>cap_cost</th>\n",
       "      <td>0</td>\n",
       "      <td>0.0</td>\n",
       "    </tr>\n",
       "    <tr>\n",
       "      <th>visc</th>\n",
       "      <td>0</td>\n",
       "      <td>0.0</td>\n",
       "    </tr>\n",
       "    <tr>\n",
       "      <th>saturate</th>\n",
       "      <td>0</td>\n",
       "      <td>0.0</td>\n",
       "    </tr>\n",
       "    <tr>\n",
       "      <th>field_name</th>\n",
       "      <td>0</td>\n",
       "      <td>0.0</td>\n",
       "    </tr>\n",
       "    <tr>\n",
       "      <th>perm</th>\n",
       "      <td>0</td>\n",
       "      <td>0.0</td>\n",
       "    </tr>\n",
       "    <tr>\n",
       "      <th>poro</th>\n",
       "      <td>0</td>\n",
       "      <td>0.0</td>\n",
       "    </tr>\n",
       "    <tr>\n",
       "      <th>temp</th>\n",
       "      <td>0</td>\n",
       "      <td>0.0</td>\n",
       "    </tr>\n",
       "    <tr>\n",
       "      <th>depth</th>\n",
       "      <td>0</td>\n",
       "      <td>0.0</td>\n",
       "    </tr>\n",
       "    <tr>\n",
       "      <th>inplace</th>\n",
       "      <td>0</td>\n",
       "      <td>0.0</td>\n",
       "    </tr>\n",
       "    <tr>\n",
       "      <th>project_level</th>\n",
       "      <td>0</td>\n",
       "      <td>0.0</td>\n",
       "    </tr>\n",
       "    <tr>\n",
       "      <th>project_status</th>\n",
       "      <td>0</td>\n",
       "      <td>0.0</td>\n",
       "    </tr>\n",
       "    <tr>\n",
       "      <th>operator</th>\n",
       "      <td>0</td>\n",
       "      <td>0.0</td>\n",
       "    </tr>\n",
       "    <tr>\n",
       "      <th>PI</th>\n",
       "      <td>0</td>\n",
       "      <td>0.0</td>\n",
       "    </tr>\n",
       "  </tbody>\n",
       "</table>\n",
       "</div>"
      ],
      "text/plain": [
       "                Total  Percent\n",
       "fluid               0      0.0\n",
       "api_dens            0      0.0\n",
       "NPV                 0      0.0\n",
       "region              0      0.0\n",
       "location            0      0.0\n",
       "avg_fluid_rate      0      0.0\n",
       "total_cost          0      0.0\n",
       "opr_cost            0      0.0\n",
       "cap_cost            0      0.0\n",
       "visc                0      0.0\n",
       "saturate            0      0.0\n",
       "field_name          0      0.0\n",
       "perm                0      0.0\n",
       "poro                0      0.0\n",
       "temp                0      0.0\n",
       "depth               0      0.0\n",
       "inplace             0      0.0\n",
       "project_level       0      0.0\n",
       "project_status      0      0.0\n",
       "operator            0      0.0\n",
       "PI                  0      0.0"
      ]
     },
     "execution_count": 115,
     "metadata": {},
     "output_type": "execute_result"
    }
   ],
   "source": [
    "total = esdc_raw.isnull().sum().sort_values(ascending=False)\n",
    "percent = (esdc_raw.isnull().sum()/esdc_raw.isnull().count()).sort_values(ascending=False)*100\n",
    "missing_data = pd.concat([total, percent], axis=1, keys=['Total', 'Percent'])\n",
    "missing_data"
   ]
  },
  {
   "cell_type": "markdown",
   "metadata": {},
   "source": [
    "---\n",
    "__Data Ready__"
   ]
  },
  {
   "cell_type": "code",
   "execution_count": 116,
   "metadata": {},
   "outputs": [],
   "source": [
    "esdc_raw.to_csv('Data/esdc_df.csv')"
   ]
  },
  {
   "cell_type": "markdown",
   "metadata": {},
   "source": [
    "---\n",
    "__Feature Engineering & EDA__"
   ]
  },
  {
   "cell_type": "code",
   "execution_count": 117,
   "metadata": {},
   "outputs": [
    {
     "data": {
      "text/plain": [
       "count    734.000000\n",
       "mean       1.272431\n",
       "std        3.018720\n",
       "min       -0.246133\n",
       "25%        0.237052\n",
       "50%        0.545711\n",
       "75%        1.139363\n",
       "max       61.262838\n",
       "Name: PI, dtype: float64"
      ]
     },
     "execution_count": 117,
     "metadata": {},
     "output_type": "execute_result"
    }
   ],
   "source": [
    "esdc_raw.loc[:, 'PI'].describe()"
   ]
  },
  {
   "cell_type": "code",
   "execution_count": 120,
   "metadata": {},
   "outputs": [
    {
     "data": {
      "text/html": [
       "<div>\n",
       "<style scoped>\n",
       "    .dataframe tbody tr th:only-of-type {\n",
       "        vertical-align: middle;\n",
       "    }\n",
       "\n",
       "    .dataframe tbody tr th {\n",
       "        vertical-align: top;\n",
       "    }\n",
       "\n",
       "    .dataframe thead th {\n",
       "        text-align: right;\n",
       "    }\n",
       "</style>\n",
       "<table border=\"1\" class=\"dataframe\">\n",
       "  <thead>\n",
       "    <tr style=\"text-align: right;\">\n",
       "      <th></th>\n",
       "      <th>fluid</th>\n",
       "      <th>field_name</th>\n",
       "      <th>operator</th>\n",
       "      <th>project_status</th>\n",
       "      <th>project_level</th>\n",
       "      <th>inplace</th>\n",
       "      <th>depth</th>\n",
       "      <th>temp</th>\n",
       "      <th>poro</th>\n",
       "      <th>perm</th>\n",
       "      <th>...</th>\n",
       "      <th>api_dens</th>\n",
       "      <th>visc</th>\n",
       "      <th>cap_cost</th>\n",
       "      <th>opr_cost</th>\n",
       "      <th>total_cost</th>\n",
       "      <th>avg_fluid_rate</th>\n",
       "      <th>location</th>\n",
       "      <th>region</th>\n",
       "      <th>NPV</th>\n",
       "      <th>PI</th>\n",
       "    </tr>\n",
       "  </thead>\n",
       "  <tbody>\n",
       "    <tr>\n",
       "      <th>0</th>\n",
       "      <td>Gas</td>\n",
       "      <td>ALAS TUA WEST</td>\n",
       "      <td>EXXONMOBIL CEPU LTD.</td>\n",
       "      <td>ONSHORE</td>\n",
       "      <td>X1. Discovery under Evaluation</td>\n",
       "      <td>280.00</td>\n",
       "      <td>5627.0</td>\n",
       "      <td>97.537911</td>\n",
       "      <td>0.231540</td>\n",
       "      <td>396.2948</td>\n",
       "      <td>...</td>\n",
       "      <td>0.654735</td>\n",
       "      <td>0.0</td>\n",
       "      <td>88.121670</td>\n",
       "      <td>7.390892</td>\n",
       "      <td>95.512562</td>\n",
       "      <td>61.136190</td>\n",
       "      <td>Jawa Timur</td>\n",
       "      <td>Jawa</td>\n",
       "      <td>219.373400</td>\n",
       "      <td>2.296802</td>\n",
       "    </tr>\n",
       "    <tr>\n",
       "      <th>1</th>\n",
       "      <td>Gas</td>\n",
       "      <td>APNC</td>\n",
       "      <td>PT PERTAMINA HULU ENERGI OFFSHORE NORTH WEST JAVA</td>\n",
       "      <td>OFFSHORE</td>\n",
       "      <td>X3. Development Not Viable</td>\n",
       "      <td>5.00</td>\n",
       "      <td>1588.0</td>\n",
       "      <td>60.754449</td>\n",
       "      <td>0.371649</td>\n",
       "      <td>975.0449</td>\n",
       "      <td>...</td>\n",
       "      <td>0.769757</td>\n",
       "      <td>0.0</td>\n",
       "      <td>16.350820</td>\n",
       "      <td>0.482584</td>\n",
       "      <td>16.833404</td>\n",
       "      <td>8.260639</td>\n",
       "      <td>Jawa Barat</td>\n",
       "      <td>Jawa</td>\n",
       "      <td>6.763115</td>\n",
       "      <td>0.401768</td>\n",
       "    </tr>\n",
       "    <tr>\n",
       "      <th>2</th>\n",
       "      <td>Gas</td>\n",
       "      <td>APNX</td>\n",
       "      <td>PT PERTAMINA HULU ENERGI OFFSHORE NORTH WEST JAVA</td>\n",
       "      <td>OFFSHORE</td>\n",
       "      <td>X3. Development Not Viable</td>\n",
       "      <td>17.31</td>\n",
       "      <td>3775.0</td>\n",
       "      <td>84.004423</td>\n",
       "      <td>0.350870</td>\n",
       "      <td>1985.5620</td>\n",
       "      <td>...</td>\n",
       "      <td>0.774667</td>\n",
       "      <td>0.0</td>\n",
       "      <td>31.212980</td>\n",
       "      <td>5.444560</td>\n",
       "      <td>36.657540</td>\n",
       "      <td>0.209892</td>\n",
       "      <td>Jawa Barat</td>\n",
       "      <td>Jawa</td>\n",
       "      <td>25.005370</td>\n",
       "      <td>0.682134</td>\n",
       "    </tr>\n",
       "    <tr>\n",
       "      <th>3</th>\n",
       "      <td>Gas</td>\n",
       "      <td>BEKAPAI</td>\n",
       "      <td>PT PERTAMINA HULU MAHAKAM</td>\n",
       "      <td>BOTH</td>\n",
       "      <td>E8. Further Development Not Viable</td>\n",
       "      <td>7135.00</td>\n",
       "      <td>6383.0</td>\n",
       "      <td>76.450000</td>\n",
       "      <td>0.201267</td>\n",
       "      <td>619.7617</td>\n",
       "      <td>...</td>\n",
       "      <td>0.783749</td>\n",
       "      <td>0.0</td>\n",
       "      <td>7.269243</td>\n",
       "      <td>15.765420</td>\n",
       "      <td>23.034663</td>\n",
       "      <td>15.833870</td>\n",
       "      <td>Selat Makasar</td>\n",
       "      <td>Kalimantan</td>\n",
       "      <td>3.810051</td>\n",
       "      <td>0.165405</td>\n",
       "    </tr>\n",
       "    <tr>\n",
       "      <th>4</th>\n",
       "      <td>Gas</td>\n",
       "      <td>BENTU DEEP</td>\n",
       "      <td>EMP BENTU LTD.</td>\n",
       "      <td>ONSHORE</td>\n",
       "      <td>X1. Discovery under Evaluation</td>\n",
       "      <td>15.90</td>\n",
       "      <td>2067.0</td>\n",
       "      <td>67.053312</td>\n",
       "      <td>0.213011</td>\n",
       "      <td>108.1771</td>\n",
       "      <td>...</td>\n",
       "      <td>0.710626</td>\n",
       "      <td>0.0</td>\n",
       "      <td>6.147158</td>\n",
       "      <td>1.867879</td>\n",
       "      <td>8.015037</td>\n",
       "      <td>6.929915</td>\n",
       "      <td>Riau</td>\n",
       "      <td>Sumatera</td>\n",
       "      <td>112.446500</td>\n",
       "      <td>14.029442</td>\n",
       "    </tr>\n",
       "  </tbody>\n",
       "</table>\n",
       "<p>5 rows × 21 columns</p>\n",
       "</div>"
      ],
      "text/plain": [
       "  fluid     field_name                                           operator  \\\n",
       "0   Gas  ALAS TUA WEST                               EXXONMOBIL CEPU LTD.   \n",
       "1   Gas           APNC  PT PERTAMINA HULU ENERGI OFFSHORE NORTH WEST JAVA   \n",
       "2   Gas           APNX  PT PERTAMINA HULU ENERGI OFFSHORE NORTH WEST JAVA   \n",
       "3   Gas        BEKAPAI                          PT PERTAMINA HULU MAHAKAM   \n",
       "4   Gas     BENTU DEEP                                     EMP BENTU LTD.   \n",
       "\n",
       "  project_status                       project_level  inplace   depth  \\\n",
       "0        ONSHORE      X1. Discovery under Evaluation   280.00  5627.0   \n",
       "1       OFFSHORE          X3. Development Not Viable     5.00  1588.0   \n",
       "2       OFFSHORE          X3. Development Not Viable    17.31  3775.0   \n",
       "3           BOTH  E8. Further Development Not Viable  7135.00  6383.0   \n",
       "4        ONSHORE      X1. Discovery under Evaluation    15.90  2067.0   \n",
       "\n",
       "        temp      poro       perm  ...  api_dens  visc   cap_cost   opr_cost  \\\n",
       "0  97.537911  0.231540   396.2948  ...  0.654735   0.0  88.121670   7.390892   \n",
       "1  60.754449  0.371649   975.0449  ...  0.769757   0.0  16.350820   0.482584   \n",
       "2  84.004423  0.350870  1985.5620  ...  0.774667   0.0  31.212980   5.444560   \n",
       "3  76.450000  0.201267   619.7617  ...  0.783749   0.0   7.269243  15.765420   \n",
       "4  67.053312  0.213011   108.1771  ...  0.710626   0.0   6.147158   1.867879   \n",
       "\n",
       "   total_cost  avg_fluid_rate       location      region         NPV  \\\n",
       "0   95.512562       61.136190     Jawa Timur        Jawa  219.373400   \n",
       "1   16.833404        8.260639     Jawa Barat        Jawa    6.763115   \n",
       "2   36.657540        0.209892     Jawa Barat        Jawa   25.005370   \n",
       "3   23.034663       15.833870  Selat Makasar  Kalimantan    3.810051   \n",
       "4    8.015037        6.929915           Riau    Sumatera  112.446500   \n",
       "\n",
       "          PI  \n",
       "0   2.296802  \n",
       "1   0.401768  \n",
       "2   0.682134  \n",
       "3   0.165405  \n",
       "4  14.029442  \n",
       "\n",
       "[5 rows x 21 columns]"
      ]
     },
     "execution_count": 120,
     "metadata": {},
     "output_type": "execute_result"
    }
   ],
   "source": [
    "esdc_df = pd.read_csv('Data/esdc_df.csv')\n",
    "esdc_df.drop(columns='Unnamed: 0', inplace=True)\n",
    "esdc_df.head()"
   ]
  },
  {
   "cell_type": "code",
   "execution_count": 122,
   "metadata": {},
   "outputs": [
    {
     "data": {
      "text/plain": [
       "E7. Production Not Viable             132\n",
       "E0. On Production                     122\n",
       "X1. Discovery under Evaluation        112\n",
       "E6. Further Development                74\n",
       "E4. Production Pending                 70\n",
       "E5. Development Unclarified            53\n",
       "X3. Development Not Viable             42\n",
       "E3. Justified for Development          36\n",
       "X0. Development Pending                31\n",
       "E2. Under Development                  20\n",
       "X2. Development Undetermined           18\n",
       "E8. Further Development Not Viable     17\n",
       "E1. Production on Hold                  7\n",
       "Name: project_level, dtype: int64"
      ]
     },
     "execution_count": 122,
     "metadata": {},
     "output_type": "execute_result"
    }
   ],
   "source": [
    "esdc_df.project_level.value_counts()"
   ]
  },
  {
   "cell_type": "code",
   "execution_count": 164,
   "metadata": {},
   "outputs": [
    {
     "data": {
      "text/plain": [
       "project_level\n",
       "E0. On Production                     2.033117\n",
       "E1. Production on Hold                3.128682\n",
       "E2. Under Development                 2.420781\n",
       "E3. Justified for Development         0.849384\n",
       "E4. Production Pending                0.965692\n",
       "E5. Development Unclarified           1.459044\n",
       "E6. Further Development               1.223655\n",
       "E7. Production Not Viable             0.749261\n",
       "E8. Further Development Not Viable    2.094478\n",
       "X0. Development Pending               1.240810\n",
       "X1. Discovery under Evaluation        1.220731\n",
       "X2. Development Undetermined          0.850525\n",
       "X3. Development Not Viable            0.584434\n",
       "Name: PI, dtype: float64"
      ]
     },
     "execution_count": 164,
     "metadata": {},
     "output_type": "execute_result"
    }
   ],
   "source": [
    "esdc_df.groupby('project_level')['PI'].mean()"
   ]
  },
  {
   "cell_type": "code",
   "execution_count": 162,
   "metadata": {},
   "outputs": [
    {
     "data": {
      "text/plain": [
       "project_level\n",
       "E0. On Production                     0.827068\n",
       "E1. Production on Hold                0.255419\n",
       "E2. Under Development                 0.625151\n",
       "E3. Justified for Development         0.429960\n",
       "E4. Production Pending                0.474866\n",
       "E5. Development Unclarified           0.553395\n",
       "E6. Further Development               0.805657\n",
       "E7. Production Not Viable             0.390706\n",
       "E8. Further Development Not Viable    0.698954\n",
       "X0. Development Pending               0.754849\n",
       "X1. Discovery under Evaluation        0.546959\n",
       "X2. Development Undetermined          0.649015\n",
       "X3. Development Not Viable            0.330220\n",
       "Name: PI, dtype: float64"
      ]
     },
     "execution_count": 162,
     "metadata": {},
     "output_type": "execute_result"
    }
   ],
   "source": [
    "esdc_df.groupby('project_level')['PI'].median()"
   ]
  }
 ],
 "metadata": {
  "interpreter": {
   "hash": "8803dc253b2162a5ca59873287dcbf3528ac00a3a10b38c440b3c6641036ef3e"
  },
  "kernelspec": {
   "display_name": "Python 3.8.8 ('base')",
   "language": "python",
   "name": "python3"
  },
  "language_info": {
   "codemirror_mode": {
    "name": "ipython",
    "version": 3
   },
   "file_extension": ".py",
   "mimetype": "text/x-python",
   "name": "python",
   "nbconvert_exporter": "python",
   "pygments_lexer": "ipython3",
   "version": "3.8.8"
  },
  "orig_nbformat": 4
 },
 "nbformat": 4,
 "nbformat_minor": 2
}
