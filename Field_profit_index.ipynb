{
 "cells": [
  {
   "cell_type": "markdown",
   "metadata": {},
   "source": [
    "## Field Profitability Index Prediction\n",
    "---"
   ]
  },
  {
   "cell_type": "code",
   "execution_count": 381,
   "metadata": {},
   "outputs": [],
   "source": [
    "import matplotlib.pyplot as plt\n",
    "import numpy as np\n",
    "import pandas as pd\n",
    "import seaborn as sns\n",
    "\n",
    "plt.rcParams['figure.figsize'] = (15.0, 7.0)\n",
    "sns.set_theme()"
   ]
  },
  {
   "cell_type": "code",
   "execution_count": 382,
   "metadata": {},
   "outputs": [
    {
     "data": {
      "text/html": [
       "<div>\n",
       "<style scoped>\n",
       "    .dataframe tbody tr th:only-of-type {\n",
       "        vertical-align: middle;\n",
       "    }\n",
       "\n",
       "    .dataframe tbody tr th {\n",
       "        vertical-align: top;\n",
       "    }\n",
       "\n",
       "    .dataframe thead th {\n",
       "        text-align: right;\n",
       "    }\n",
       "</style>\n",
       "<table border=\"1\" class=\"dataframe\">\n",
       "  <thead>\n",
       "    <tr style=\"text-align: right;\">\n",
       "      <th></th>\n",
       "      <th>fluid</th>\n",
       "      <th>field_name</th>\n",
       "      <th>operator</th>\n",
       "      <th>project_status</th>\n",
       "      <th>project_level</th>\n",
       "      <th>inplace</th>\n",
       "      <th>depth</th>\n",
       "      <th>temp</th>\n",
       "      <th>poro</th>\n",
       "      <th>perm</th>\n",
       "      <th>saturate</th>\n",
       "      <th>api_dens</th>\n",
       "      <th>visc</th>\n",
       "      <th>cap_cost</th>\n",
       "      <th>opr_cost</th>\n",
       "      <th>total_cost</th>\n",
       "      <th>avg_fluid_rate</th>\n",
       "      <th>location</th>\n",
       "      <th>region</th>\n",
       "      <th>NPV</th>\n",
       "      <th>PI</th>\n",
       "    </tr>\n",
       "  </thead>\n",
       "  <tbody>\n",
       "    <tr>\n",
       "      <th>0</th>\n",
       "      <td>Gas</td>\n",
       "      <td>ALAS TUA WEST</td>\n",
       "      <td>EXXONMOBIL CEPU LTD.</td>\n",
       "      <td>ONSHORE</td>\n",
       "      <td>X1. Discovery under Evaluation</td>\n",
       "      <td>280.00</td>\n",
       "      <td>5627.0</td>\n",
       "      <td>NaN</td>\n",
       "      <td>0.231540</td>\n",
       "      <td>396.2948</td>\n",
       "      <td>0.544649</td>\n",
       "      <td>0.654735</td>\n",
       "      <td>0.0</td>\n",
       "      <td>88.121670</td>\n",
       "      <td>7.390892</td>\n",
       "      <td>95.512562</td>\n",
       "      <td>61.136190</td>\n",
       "      <td>Jawa Timur</td>\n",
       "      <td>Jawa</td>\n",
       "      <td>219.373400</td>\n",
       "      <td>2.296802</td>\n",
       "    </tr>\n",
       "    <tr>\n",
       "      <th>1</th>\n",
       "      <td>Gas</td>\n",
       "      <td>APNC</td>\n",
       "      <td>PT PERTAMINA HULU ENERGI OFFSHORE NORTH WEST JAVA</td>\n",
       "      <td>OFFSHORE</td>\n",
       "      <td>X3. Development Not Viable</td>\n",
       "      <td>5.00</td>\n",
       "      <td>1588.0</td>\n",
       "      <td>NaN</td>\n",
       "      <td>0.371649</td>\n",
       "      <td>975.0449</td>\n",
       "      <td>0.586189</td>\n",
       "      <td>0.769757</td>\n",
       "      <td>0.0</td>\n",
       "      <td>16.350820</td>\n",
       "      <td>0.482584</td>\n",
       "      <td>16.833404</td>\n",
       "      <td>8.260639</td>\n",
       "      <td>Jawa Barat</td>\n",
       "      <td>Jawa</td>\n",
       "      <td>6.763115</td>\n",
       "      <td>0.401768</td>\n",
       "    </tr>\n",
       "    <tr>\n",
       "      <th>2</th>\n",
       "      <td>Gas</td>\n",
       "      <td>APNX</td>\n",
       "      <td>PT PERTAMINA HULU ENERGI OFFSHORE NORTH WEST JAVA</td>\n",
       "      <td>OFFSHORE</td>\n",
       "      <td>X3. Development Not Viable</td>\n",
       "      <td>17.31</td>\n",
       "      <td>NaN</td>\n",
       "      <td>NaN</td>\n",
       "      <td>0.350870</td>\n",
       "      <td>1985.5620</td>\n",
       "      <td>0.627856</td>\n",
       "      <td>0.774667</td>\n",
       "      <td>0.0</td>\n",
       "      <td>31.212980</td>\n",
       "      <td>5.444560</td>\n",
       "      <td>36.657540</td>\n",
       "      <td>0.209892</td>\n",
       "      <td>Jawa Barat</td>\n",
       "      <td>Jawa</td>\n",
       "      <td>25.005370</td>\n",
       "      <td>0.682134</td>\n",
       "    </tr>\n",
       "    <tr>\n",
       "      <th>3</th>\n",
       "      <td>Gas</td>\n",
       "      <td>BEKAPAI</td>\n",
       "      <td>PT PERTAMINA HULU MAHAKAM</td>\n",
       "      <td>BOTH</td>\n",
       "      <td>E8. Further Development Not Viable</td>\n",
       "      <td>7135.00</td>\n",
       "      <td>6383.0</td>\n",
       "      <td>76.45</td>\n",
       "      <td>0.201267</td>\n",
       "      <td>619.7617</td>\n",
       "      <td>0.681374</td>\n",
       "      <td>0.783749</td>\n",
       "      <td>0.0</td>\n",
       "      <td>7.269243</td>\n",
       "      <td>15.765420</td>\n",
       "      <td>23.034663</td>\n",
       "      <td>15.833870</td>\n",
       "      <td>Selat Makasar</td>\n",
       "      <td>Kalimantan</td>\n",
       "      <td>3.810051</td>\n",
       "      <td>0.165405</td>\n",
       "    </tr>\n",
       "    <tr>\n",
       "      <th>4</th>\n",
       "      <td>Gas</td>\n",
       "      <td>BENTU DEEP</td>\n",
       "      <td>EMP BENTU LTD.</td>\n",
       "      <td>ONSHORE</td>\n",
       "      <td>X1. Discovery under Evaluation</td>\n",
       "      <td>15.90</td>\n",
       "      <td>2067.0</td>\n",
       "      <td>NaN</td>\n",
       "      <td>0.213011</td>\n",
       "      <td>108.1771</td>\n",
       "      <td>0.701410</td>\n",
       "      <td>0.710626</td>\n",
       "      <td>0.0</td>\n",
       "      <td>6.147158</td>\n",
       "      <td>1.867879</td>\n",
       "      <td>8.015037</td>\n",
       "      <td>6.929915</td>\n",
       "      <td>Riau</td>\n",
       "      <td>Sumatera</td>\n",
       "      <td>112.446500</td>\n",
       "      <td>14.029442</td>\n",
       "    </tr>\n",
       "  </tbody>\n",
       "</table>\n",
       "</div>"
      ],
      "text/plain": [
       "  fluid     field_name                                           operator  \\\n",
       "0   Gas  ALAS TUA WEST                               EXXONMOBIL CEPU LTD.   \n",
       "1   Gas           APNC  PT PERTAMINA HULU ENERGI OFFSHORE NORTH WEST JAVA   \n",
       "2   Gas           APNX  PT PERTAMINA HULU ENERGI OFFSHORE NORTH WEST JAVA   \n",
       "3   Gas        BEKAPAI                          PT PERTAMINA HULU MAHAKAM   \n",
       "4   Gas     BENTU DEEP                                     EMP BENTU LTD.   \n",
       "\n",
       "  project_status                       project_level  inplace   depth   temp  \\\n",
       "0        ONSHORE      X1. Discovery under Evaluation   280.00  5627.0    NaN   \n",
       "1       OFFSHORE          X3. Development Not Viable     5.00  1588.0    NaN   \n",
       "2       OFFSHORE          X3. Development Not Viable    17.31     NaN    NaN   \n",
       "3           BOTH  E8. Further Development Not Viable  7135.00  6383.0  76.45   \n",
       "4        ONSHORE      X1. Discovery under Evaluation    15.90  2067.0    NaN   \n",
       "\n",
       "       poro       perm  saturate  api_dens  visc   cap_cost   opr_cost  \\\n",
       "0  0.231540   396.2948  0.544649  0.654735   0.0  88.121670   7.390892   \n",
       "1  0.371649   975.0449  0.586189  0.769757   0.0  16.350820   0.482584   \n",
       "2  0.350870  1985.5620  0.627856  0.774667   0.0  31.212980   5.444560   \n",
       "3  0.201267   619.7617  0.681374  0.783749   0.0   7.269243  15.765420   \n",
       "4  0.213011   108.1771  0.701410  0.710626   0.0   6.147158   1.867879   \n",
       "\n",
       "   total_cost  avg_fluid_rate       location      region         NPV  \\\n",
       "0   95.512562       61.136190     Jawa Timur        Jawa  219.373400   \n",
       "1   16.833404        8.260639     Jawa Barat        Jawa    6.763115   \n",
       "2   36.657540        0.209892     Jawa Barat        Jawa   25.005370   \n",
       "3   23.034663       15.833870  Selat Makasar  Kalimantan    3.810051   \n",
       "4    8.015037        6.929915           Riau    Sumatera  112.446500   \n",
       "\n",
       "          PI  \n",
       "0   2.296802  \n",
       "1   0.401768  \n",
       "2   0.682134  \n",
       "3   0.165405  \n",
       "4  14.029442  "
      ]
     },
     "execution_count": 382,
     "metadata": {},
     "output_type": "execute_result"
    }
   ],
   "source": [
    "esdc_raw = pd.read_excel('Data/esdc_raw.xlsx')\n",
    "esdc_raw.head()"
   ]
  },
  {
   "cell_type": "code",
   "execution_count": 383,
   "metadata": {},
   "outputs": [
    {
     "data": {
      "text/plain": [
       "790"
      ]
     },
     "execution_count": 383,
     "metadata": {},
     "output_type": "execute_result"
    }
   ],
   "source": [
    "esdc_raw.PI.count()"
   ]
  },
  {
   "cell_type": "markdown",
   "metadata": {},
   "source": [
    "---\n",
    "__Data Preprocessing__"
   ]
  },
  {
   "cell_type": "code",
   "execution_count": 384,
   "metadata": {},
   "outputs": [
    {
     "data": {
      "text/html": [
       "<div>\n",
       "<style scoped>\n",
       "    .dataframe tbody tr th:only-of-type {\n",
       "        vertical-align: middle;\n",
       "    }\n",
       "\n",
       "    .dataframe tbody tr th {\n",
       "        vertical-align: top;\n",
       "    }\n",
       "\n",
       "    .dataframe thead th {\n",
       "        text-align: right;\n",
       "    }\n",
       "</style>\n",
       "<table border=\"1\" class=\"dataframe\">\n",
       "  <thead>\n",
       "    <tr style=\"text-align: right;\">\n",
       "      <th></th>\n",
       "      <th>Total</th>\n",
       "      <th>Percent</th>\n",
       "    </tr>\n",
       "  </thead>\n",
       "  <tbody>\n",
       "    <tr>\n",
       "      <th>temp</th>\n",
       "      <td>392</td>\n",
       "      <td>49.620253</td>\n",
       "    </tr>\n",
       "    <tr>\n",
       "      <th>depth</th>\n",
       "      <td>128</td>\n",
       "      <td>16.202532</td>\n",
       "    </tr>\n",
       "    <tr>\n",
       "      <th>region</th>\n",
       "      <td>56</td>\n",
       "      <td>7.088608</td>\n",
       "    </tr>\n",
       "    <tr>\n",
       "      <th>field_name</th>\n",
       "      <td>1</td>\n",
       "      <td>0.126582</td>\n",
       "    </tr>\n",
       "    <tr>\n",
       "      <th>fluid</th>\n",
       "      <td>0</td>\n",
       "      <td>0.000000</td>\n",
       "    </tr>\n",
       "    <tr>\n",
       "      <th>visc</th>\n",
       "      <td>0</td>\n",
       "      <td>0.000000</td>\n",
       "    </tr>\n",
       "    <tr>\n",
       "      <th>NPV</th>\n",
       "      <td>0</td>\n",
       "      <td>0.000000</td>\n",
       "    </tr>\n",
       "    <tr>\n",
       "      <th>location</th>\n",
       "      <td>0</td>\n",
       "      <td>0.000000</td>\n",
       "    </tr>\n",
       "    <tr>\n",
       "      <th>avg_fluid_rate</th>\n",
       "      <td>0</td>\n",
       "      <td>0.000000</td>\n",
       "    </tr>\n",
       "    <tr>\n",
       "      <th>total_cost</th>\n",
       "      <td>0</td>\n",
       "      <td>0.000000</td>\n",
       "    </tr>\n",
       "    <tr>\n",
       "      <th>opr_cost</th>\n",
       "      <td>0</td>\n",
       "      <td>0.000000</td>\n",
       "    </tr>\n",
       "    <tr>\n",
       "      <th>cap_cost</th>\n",
       "      <td>0</td>\n",
       "      <td>0.000000</td>\n",
       "    </tr>\n",
       "    <tr>\n",
       "      <th>saturate</th>\n",
       "      <td>0</td>\n",
       "      <td>0.000000</td>\n",
       "    </tr>\n",
       "    <tr>\n",
       "      <th>api_dens</th>\n",
       "      <td>0</td>\n",
       "      <td>0.000000</td>\n",
       "    </tr>\n",
       "    <tr>\n",
       "      <th>perm</th>\n",
       "      <td>0</td>\n",
       "      <td>0.000000</td>\n",
       "    </tr>\n",
       "    <tr>\n",
       "      <th>poro</th>\n",
       "      <td>0</td>\n",
       "      <td>0.000000</td>\n",
       "    </tr>\n",
       "    <tr>\n",
       "      <th>inplace</th>\n",
       "      <td>0</td>\n",
       "      <td>0.000000</td>\n",
       "    </tr>\n",
       "    <tr>\n",
       "      <th>project_level</th>\n",
       "      <td>0</td>\n",
       "      <td>0.000000</td>\n",
       "    </tr>\n",
       "    <tr>\n",
       "      <th>project_status</th>\n",
       "      <td>0</td>\n",
       "      <td>0.000000</td>\n",
       "    </tr>\n",
       "    <tr>\n",
       "      <th>operator</th>\n",
       "      <td>0</td>\n",
       "      <td>0.000000</td>\n",
       "    </tr>\n",
       "    <tr>\n",
       "      <th>PI</th>\n",
       "      <td>0</td>\n",
       "      <td>0.000000</td>\n",
       "    </tr>\n",
       "  </tbody>\n",
       "</table>\n",
       "</div>"
      ],
      "text/plain": [
       "                Total    Percent\n",
       "temp              392  49.620253\n",
       "depth             128  16.202532\n",
       "region             56   7.088608\n",
       "field_name          1   0.126582\n",
       "fluid               0   0.000000\n",
       "visc                0   0.000000\n",
       "NPV                 0   0.000000\n",
       "location            0   0.000000\n",
       "avg_fluid_rate      0   0.000000\n",
       "total_cost          0   0.000000\n",
       "opr_cost            0   0.000000\n",
       "cap_cost            0   0.000000\n",
       "saturate            0   0.000000\n",
       "api_dens            0   0.000000\n",
       "perm                0   0.000000\n",
       "poro                0   0.000000\n",
       "inplace             0   0.000000\n",
       "project_level       0   0.000000\n",
       "project_status      0   0.000000\n",
       "operator            0   0.000000\n",
       "PI                  0   0.000000"
      ]
     },
     "execution_count": 384,
     "metadata": {},
     "output_type": "execute_result"
    }
   ],
   "source": [
    "total = esdc_raw.isnull().sum().sort_values(ascending=False)\n",
    "percent = (esdc_raw.isnull().sum()/esdc_raw.isnull().count()).sort_values(ascending=False)*100\n",
    "missing_data = pd.concat([total, percent], axis=1, keys=['Total', 'Percent'])\n",
    "missing_data"
   ]
  },
  {
   "cell_type": "markdown",
   "metadata": {},
   "source": [
    "> We have 4 major missing values. In oil and gas industry those top 3 variables are crucial because they are often related to development cost and then PI. To obtain a realiable model in PI prediction we decided to solve these issues"
   ]
  },
  {
   "cell_type": "markdown",
   "metadata": {},
   "source": [
    "_Region_"
   ]
  },
  {
   "cell_type": "markdown",
   "metadata": {},
   "source": [
    "> We notice that 56 region's data are missing, but when we look at those data we find it is difficult to tie the region by using another features. Despite missing values we decide to exclude those 56 data from dataset because they just represent arround 7% of total. This deletion refeals some dilemmas that we are aiming to use as many as possible datas but we are bounded to classification problem that the model we are aiming to make is capable in making prediction in PI value for a certain region so we conclude that inputation in region could lead to model degradation and quality issue."
   ]
  },
  {
   "cell_type": "code",
   "execution_count": 385,
   "metadata": {},
   "outputs": [],
   "source": [
    "esdc_raw = esdc_raw.loc[~esdc_raw.region.isna(), :]"
   ]
  },
  {
   "cell_type": "markdown",
   "metadata": {},
   "source": [
    "_Temperature & Depth_"
   ]
  },
  {
   "cell_type": "code",
   "execution_count": 386,
   "metadata": {},
   "outputs": [
    {
     "data": {
      "image/png": "[encoded data removed]",
      "text/plain": [
       "<Figure size 1080x504 with 1 Axes>"
      ]
     },
     "metadata": {},
     "output_type": "display_data"
    }
   ],
   "source": [
    "sns.scatterplot(x=esdc_raw.depth, y=esdc_raw.loc[~esdc_raw.temp.isna(), 'temp'], hue=esdc_raw.region)\n",
    "plt.title('FIG-1: Depth vs Temperature');"
   ]
  },
  {
   "cell_type": "markdown",
   "metadata": {},
   "source": [
    "> `Depth` has strong relation to `temp` as the drill string going deeper and so does the temperature. We can use this natural phenomena to predict temperature by using `depth`. As predictor, we have to solve `depth` at first to eliminate those missing datas, inconsistencies & outliers."
   ]
  },
  {
   "cell_type": "markdown",
   "metadata": {},
   "source": [
    "> FIG-2 shows the depth distribution for indonesian oil & gas field (reservoir) categorized by their location and project status whether it is located on offshore or onshore or both. From FIG-2 we are informed that the depth could vary depending on its location and region."
   ]
  },
  {
   "cell_type": "code",
   "execution_count": 387,
   "metadata": {},
   "outputs": [
    {
     "data": {
      "image/png": "[encoded data removed]",
      "text/plain": [
       "<Figure size 1080x504 with 1 Axes>"
      ]
     },
     "metadata": {},
     "output_type": "display_data"
    }
   ],
   "source": [
    "sns.boxplot(x=esdc_raw.depth, y=esdc_raw.region, hue=esdc_raw.project_status)\n",
    "plt.title('FIG-2: Depth, Location, and, Region');"
   ]
  },
  {
   "cell_type": "markdown",
   "metadata": {},
   "source": [
    "> On FIG-2 we notice that some anomalies exist and need to be solved. First issue relate to depth that has value == 0 which is impossible to have such shallow oil/ gas deposite so we will replace those values as well as NAN (second issue) by using region-project_status clustered median. We believe median is suitable as replacement because based on business knowledge those value are consistent. Moving to eastern Indonesia we are expecting deeper sea and reservoir but not in Jawa-Kalimantan-Sumatera whose median values are quite similar."
   ]
  },
  {
   "cell_type": "markdown",
   "metadata": {},
   "source": [
    "> The code below aims to calculate median value of `depth` for each region and their `project_status`. This code excludes depth==0 to obtain the right median values"
   ]
  },
  {
   "cell_type": "code",
   "execution_count": 388,
   "metadata": {},
   "outputs": [],
   "source": [
    "jawa = esdc_raw.loc[(esdc_raw.depth != 0) & (esdc_raw.region == 'Jawa')].groupby('project_status')['depth'].median()\n",
    "kalimantan = esdc_raw.loc[(esdc_raw.depth != 0) & (esdc_raw.region == 'Kalimantan')].groupby('project_status')['depth'].median()\n",
    "sumatera = esdc_raw.loc[(esdc_raw.depth != 0) & (esdc_raw.region == 'Sumatera')].groupby('project_status')['depth'].median()\n",
    "timur = esdc_raw.loc[(esdc_raw.depth != 0) & (esdc_raw.region == 'Timur')].groupby('project_status')['depth'].median()"
   ]
  },
  {
   "cell_type": "markdown",
   "metadata": {},
   "source": [
    "> By having Grouby variable on region code above we are able to inpute median value to replace either NaN and 0 on `depth`. The code below show how it is done"
   ]
  },
  {
   "cell_type": "code",
   "execution_count": 389,
   "metadata": {},
   "outputs": [],
   "source": [
    "esdc_raw.loc[((esdc_raw.depth == 0) | (esdc_raw.depth.isna())), 'depth'] = esdc_raw.apply(lambda row: jawa[row['project_status']] if (row['region'] == 'Jawa')  else\n",
    "                    kalimantan[row['project_status']] if (row['region'] == 'Kalimantan') else\n",
    "                    sumatera[row['project_status']] if (row['region'] == 'Sumatera') else\n",
    "                    timur[row['project_status']] if (row['region'] == 'Timur') else row['depth'], axis=1)"
   ]
  },
  {
   "cell_type": "code",
   "execution_count": 390,
   "metadata": {},
   "outputs": [
    {
     "data": {
      "image/png": "[encoded data removed]",
      "text/plain": [
       "<Figure size 1080x504 with 1 Axes>"
      ]
     },
     "metadata": {},
     "output_type": "display_data"
    }
   ],
   "source": [
    "sns.boxplot(x=esdc_raw.depth, y=esdc_raw.region, hue=esdc_raw.project_status)\n",
    "plt.title('FIG-3: Depth, Location, and, Region (After NaN & 0 Depth Imputation)');"
   ]
  },
  {
   "cell_type": "markdown",
   "metadata": {},
   "source": [
    "> Sanitiy Check after 0 & NaN `depth` imputation"
   ]
  },
  {
   "cell_type": "code",
   "execution_count": 391,
   "metadata": {},
   "outputs": [
    {
     "data": {
      "text/plain": [
       "Series([], dtype: int64)"
      ]
     },
     "execution_count": 391,
     "metadata": {},
     "output_type": "execute_result"
    }
   ],
   "source": [
    "esdc_raw.loc[esdc_raw.depth == 0, ['depth', 'temp', 'location', 'region', 'project_status']].value_counts()"
   ]
  },
  {
   "cell_type": "code",
   "execution_count": 392,
   "metadata": {},
   "outputs": [
    {
     "data": {
      "text/plain": [
       "Series([], dtype: int64)"
      ]
     },
     "execution_count": 392,
     "metadata": {},
     "output_type": "execute_result"
    }
   ],
   "source": [
    "esdc_raw.loc[esdc_raw.depth.isna(), ['depth', 'temp', 'location', 'region', 'project_status']].value_counts()"
   ]
  },
  {
   "cell_type": "markdown",
   "metadata": {},
   "source": [
    "Temperature"
   ]
  },
  {
   "cell_type": "markdown",
   "metadata": {},
   "source": [
    "> As mentioned above that `temp` has strong relation with `depth` lineary and this phenomenon has been known and confirmed by geological knowledge and petroleum physics so we are going to predict `temp` and doing inputation for missing value and 0 by using linear regression"
   ]
  },
  {
   "cell_type": "markdown",
   "metadata": {},
   "source": [
    "> Based on visual and theory representation, we believe the trend of `temp` will follow logaritmic shape so we decide to transform `depth` and `temp` to become logaritmic value"
   ]
  },
  {
   "cell_type": "code",
   "execution_count": 393,
   "metadata": {},
   "outputs": [],
   "source": [
    "import statsmodels.api as sm\n",
    "from statsmodels.formula.api import ols"
   ]
  },
  {
   "cell_type": "code",
   "execution_count": 394,
   "metadata": {},
   "outputs": [
    {
     "data": {
      "text/html": [
       "<div>\n",
       "<style scoped>\n",
       "    .dataframe tbody tr th:only-of-type {\n",
       "        vertical-align: middle;\n",
       "    }\n",
       "\n",
       "    .dataframe tbody tr th {\n",
       "        vertical-align: top;\n",
       "    }\n",
       "\n",
       "    .dataframe thead th {\n",
       "        text-align: right;\n",
       "    }\n",
       "</style>\n",
       "<table border=\"1\" class=\"dataframe\">\n",
       "  <thead>\n",
       "    <tr style=\"text-align: right;\">\n",
       "      <th></th>\n",
       "      <th>temp</th>\n",
       "      <th>depth</th>\n",
       "    </tr>\n",
       "  </thead>\n",
       "  <tbody>\n",
       "    <tr>\n",
       "      <th>count</th>\n",
       "      <td>262.000000</td>\n",
       "      <td>262.000000</td>\n",
       "    </tr>\n",
       "    <tr>\n",
       "      <th>mean</th>\n",
       "      <td>94.028648</td>\n",
       "      <td>5303.801889</td>\n",
       "    </tr>\n",
       "    <tr>\n",
       "      <th>std</th>\n",
       "      <td>32.615539</td>\n",
       "      <td>3064.216780</td>\n",
       "    </tr>\n",
       "    <tr>\n",
       "      <th>min</th>\n",
       "      <td>38.500000</td>\n",
       "      <td>328.000000</td>\n",
       "    </tr>\n",
       "    <tr>\n",
       "      <th>25%</th>\n",
       "      <td>69.300000</td>\n",
       "      <td>2752.500000</td>\n",
       "    </tr>\n",
       "    <tr>\n",
       "      <th>50%</th>\n",
       "      <td>88.550000</td>\n",
       "      <td>4678.500000</td>\n",
       "    </tr>\n",
       "    <tr>\n",
       "      <th>75%</th>\n",
       "      <td>116.050000</td>\n",
       "      <td>7100.000000</td>\n",
       "    </tr>\n",
       "    <tr>\n",
       "      <th>max</th>\n",
       "      <td>206.811000</td>\n",
       "      <td>12845.000000</td>\n",
       "    </tr>\n",
       "  </tbody>\n",
       "</table>\n",
       "</div>"
      ],
      "text/plain": [
       "             temp         depth\n",
       "count  262.000000    262.000000\n",
       "mean    94.028648   5303.801889\n",
       "std     32.615539   3064.216780\n",
       "min     38.500000    328.000000\n",
       "25%     69.300000   2752.500000\n",
       "50%     88.550000   4678.500000\n",
       "75%    116.050000   7100.000000\n",
       "max    206.811000  12845.000000"
      ]
     },
     "execution_count": 394,
     "metadata": {},
     "output_type": "execute_result"
    }
   ],
   "source": [
    "esdc_raw.loc[(~esdc_raw.temp.isna()) & (esdc_raw.temp != 0), ['temp', 'depth']].describe()"
   ]
  },
  {
   "cell_type": "code",
   "execution_count": 395,
   "metadata": {},
   "outputs": [],
   "source": [
    "esdc_raw_log = esdc_raw.loc[(~esdc_raw.temp.isna()) & (esdc_raw.temp != 0), ['temp', 'depth']].apply(lambda x: np.log(x))"
   ]
  },
  {
   "cell_type": "code",
   "execution_count": 396,
   "metadata": {},
   "outputs": [
    {
     "data": {
      "text/html": [
       "<div>\n",
       "<style scoped>\n",
       "    .dataframe tbody tr th:only-of-type {\n",
       "        vertical-align: middle;\n",
       "    }\n",
       "\n",
       "    .dataframe tbody tr th {\n",
       "        vertical-align: top;\n",
       "    }\n",
       "\n",
       "    .dataframe thead th {\n",
       "        text-align: right;\n",
       "    }\n",
       "</style>\n",
       "<table border=\"1\" class=\"dataframe\">\n",
       "  <thead>\n",
       "    <tr style=\"text-align: right;\">\n",
       "      <th></th>\n",
       "      <th>temp</th>\n",
       "      <th>depth</th>\n",
       "    </tr>\n",
       "  </thead>\n",
       "  <tbody>\n",
       "    <tr>\n",
       "      <th>count</th>\n",
       "      <td>262.000000</td>\n",
       "      <td>262.000000</td>\n",
       "    </tr>\n",
       "    <tr>\n",
       "      <th>mean</th>\n",
       "      <td>4.485022</td>\n",
       "      <td>8.381587</td>\n",
       "    </tr>\n",
       "    <tr>\n",
       "      <th>std</th>\n",
       "      <td>0.343751</td>\n",
       "      <td>0.670976</td>\n",
       "    </tr>\n",
       "    <tr>\n",
       "      <th>min</th>\n",
       "      <td>3.650658</td>\n",
       "      <td>5.793014</td>\n",
       "    </tr>\n",
       "    <tr>\n",
       "      <th>25%</th>\n",
       "      <td>4.238445</td>\n",
       "      <td>7.920264</td>\n",
       "    </tr>\n",
       "    <tr>\n",
       "      <th>50%</th>\n",
       "      <td>4.483567</td>\n",
       "      <td>8.450730</td>\n",
       "    </tr>\n",
       "    <tr>\n",
       "      <th>75%</th>\n",
       "      <td>4.754021</td>\n",
       "      <td>8.867850</td>\n",
       "    </tr>\n",
       "    <tr>\n",
       "      <th>max</th>\n",
       "      <td>5.331805</td>\n",
       "      <td>9.460710</td>\n",
       "    </tr>\n",
       "  </tbody>\n",
       "</table>\n",
       "</div>"
      ],
      "text/plain": [
       "             temp       depth\n",
       "count  262.000000  262.000000\n",
       "mean     4.485022    8.381587\n",
       "std      0.343751    0.670976\n",
       "min      3.650658    5.793014\n",
       "25%      4.238445    7.920264\n",
       "50%      4.483567    8.450730\n",
       "75%      4.754021    8.867850\n",
       "max      5.331805    9.460710"
      ]
     },
     "execution_count": 396,
     "metadata": {},
     "output_type": "execute_result"
    }
   ],
   "source": [
    "esdc_raw_log.describe()"
   ]
  },
  {
   "cell_type": "code",
   "execution_count": 397,
   "metadata": {},
   "outputs": [
    {
     "name": "stdout",
     "output_type": "stream",
     "text": [
      "                            OLS Regression Results                            \n",
      "==============================================================================\n",
      "Dep. Variable:                   temp   R-squared:                       0.533\n",
      "Model:                            OLS   Adj. R-squared:                  0.532\n",
      "Method:                 Least Squares   F-statistic:                     295.1\n",
      "Date:                Tue, 21 Jun 2022   Prob (F-statistic):           1.02e-44\n",
      "Time:                        20:15:32   Log-Likelihood:                 8.3725\n",
      "No. Observations:                 262   AIC:                            -12.75\n",
      "Df Residuals:                     260   BIC:                            -5.608\n",
      "Df Model:                           1                                         \n",
      "Covariance Type:                  HC3                                         \n",
      "==============================================================================\n",
      "                 coef    std err          z      P>|z|      [0.025      0.975]\n",
      "------------------------------------------------------------------------------\n",
      "Intercept      1.3489      0.181      7.469      0.000       0.995       1.703\n",
      "depth          0.3742      0.022     17.178      0.000       0.331       0.417\n",
      "==============================================================================\n",
      "Omnibus:                        1.987   Durbin-Watson:                   1.616\n",
      "Prob(Omnibus):                  0.370   Jarque-Bera (JB):                1.796\n",
      "Skew:                          -0.073   Prob(JB):                        0.407\n",
      "Kurtosis:                       3.379   Cond. No.                         107.\n",
      "==============================================================================\n",
      "\n",
      "Notes:\n",
      "[1] Standard Errors are heteroscedasticity robust (HC3)\n"
     ]
    }
   ],
   "source": [
    "mod_1 = ols(\"temp ~ depth\", data = esdc_raw_log)\n",
    "res_1 = mod_1.fit(cov_type='HC3')\n",
    "print(res_1.summary())"
   ]
  },
  {
   "cell_type": "markdown",
   "metadata": {},
   "source": [
    "> As shown on summary tabel above we quite certain that the linear relationship can be modeled properly judged by some values that underlained linear regression foundation. Those values informed us that the model are the best fitted model available (refer : Gauss-Markov)"
   ]
  },
  {
   "cell_type": "markdown",
   "metadata": {},
   "source": [
    "> Those values are:\n",
    "- Durbin watson = Near 2, which is suitable to conclude that our model are not performing some serious autocorrelation\n",
    "- F-stat (prob) = 1.02e-44, meaning `depth` has strong effect on temperature together with the intercept (< 0.05)\n",
    "- R-square = 0.532, meaning we can model/ explain more that 50% variance in `temp` by using `depth` alone\n",
    "- Prob (JB) = 0.407, meaning our model's residual are normaly distributed (> 0.05) and not performing some heteroskedastic\n",
    "- Multicollinearity = Not tested, but we can conclude this effect is not coming into play because we just use single `depth` variable"
   ]
  },
  {
   "cell_type": "code",
   "execution_count": 398,
   "metadata": {},
   "outputs": [],
   "source": [
    "esdc_raw['temp'] = esdc_raw.apply(lambda row: np.exp(1.3489 + np.log(row['depth'])*0.3742) if ((np.isnan(row['temp'])) \n",
    "                    | (row['temp'] == 0)) else row['temp'], axis=1)"
   ]
  },
  {
   "cell_type": "code",
   "execution_count": 399,
   "metadata": {},
   "outputs": [
    {
     "data": {
      "image/png": "[encoded data removed]",
      "text/plain": [
       "<Figure size 1080x504 with 1 Axes>"
      ]
     },
     "metadata": {},
     "output_type": "display_data"
    }
   ],
   "source": [
    "sns.scatterplot(x=esdc_raw.depth, y=esdc_raw.loc[~esdc_raw.temp.isna(), 'temp'], hue=esdc_raw.region)\n",
    "plt.title('FIG-4: Depth vs Temperature (After Cleaning');"
   ]
  },
  {
   "cell_type": "markdown",
   "metadata": {},
   "source": [
    "_Field Name_"
   ]
  },
  {
   "cell_type": "markdown",
   "metadata": {},
   "source": [
    "> We notice that 1 field does'nt have field name but we decide to input this missing value in field_name by using dummy name as PETROGAS_FIELD"
   ]
  },
  {
   "cell_type": "code",
   "execution_count": 400,
   "metadata": {},
   "outputs": [
    {
     "data": {
      "text/html": [
       "<div>\n",
       "<style scoped>\n",
       "    .dataframe tbody tr th:only-of-type {\n",
       "        vertical-align: middle;\n",
       "    }\n",
       "\n",
       "    .dataframe tbody tr th {\n",
       "        vertical-align: top;\n",
       "    }\n",
       "\n",
       "    .dataframe thead th {\n",
       "        text-align: right;\n",
       "    }\n",
       "</style>\n",
       "<table border=\"1\" class=\"dataframe\">\n",
       "  <thead>\n",
       "    <tr style=\"text-align: right;\">\n",
       "      <th></th>\n",
       "      <th>fluid</th>\n",
       "      <th>field_name</th>\n",
       "      <th>operator</th>\n",
       "      <th>project_status</th>\n",
       "      <th>project_level</th>\n",
       "      <th>inplace</th>\n",
       "      <th>depth</th>\n",
       "      <th>temp</th>\n",
       "      <th>poro</th>\n",
       "      <th>perm</th>\n",
       "      <th>saturate</th>\n",
       "      <th>api_dens</th>\n",
       "      <th>visc</th>\n",
       "      <th>cap_cost</th>\n",
       "      <th>opr_cost</th>\n",
       "      <th>total_cost</th>\n",
       "      <th>avg_fluid_rate</th>\n",
       "      <th>location</th>\n",
       "      <th>region</th>\n",
       "      <th>NPV</th>\n",
       "      <th>PI</th>\n",
       "    </tr>\n",
       "  </thead>\n",
       "  <tbody>\n",
       "    <tr>\n",
       "      <th>82</th>\n",
       "      <td>Gas</td>\n",
       "      <td>NaN</td>\n",
       "      <td>PETROGAS (BASIN) LTD.</td>\n",
       "      <td>ONSHORE</td>\n",
       "      <td>E0. On Production</td>\n",
       "      <td>15.2</td>\n",
       "      <td>8500.0</td>\n",
       "      <td>113.817329</td>\n",
       "      <td>0.208427</td>\n",
       "      <td>1843.266</td>\n",
       "      <td>0.742045</td>\n",
       "      <td>0.707603</td>\n",
       "      <td>0.0</td>\n",
       "      <td>32.91079</td>\n",
       "      <td>6.594186</td>\n",
       "      <td>39.504976</td>\n",
       "      <td>7.070269</td>\n",
       "      <td>Papua Barat</td>\n",
       "      <td>Timur</td>\n",
       "      <td>12.41523</td>\n",
       "      <td>0.31427</td>\n",
       "    </tr>\n",
       "  </tbody>\n",
       "</table>\n",
       "</div>"
      ],
      "text/plain": [
       "   fluid field_name               operator project_status      project_level  \\\n",
       "82   Gas        NaN  PETROGAS (BASIN) LTD.        ONSHORE  E0. On Production   \n",
       "\n",
       "    inplace   depth        temp      poro      perm  saturate  api_dens  visc  \\\n",
       "82     15.2  8500.0  113.817329  0.208427  1843.266  0.742045  0.707603   0.0   \n",
       "\n",
       "    cap_cost  opr_cost  total_cost  avg_fluid_rate     location region  \\\n",
       "82  32.91079  6.594186   39.504976        7.070269  Papua Barat  Timur   \n",
       "\n",
       "         NPV       PI  \n",
       "82  12.41523  0.31427  "
      ]
     },
     "execution_count": 400,
     "metadata": {},
     "output_type": "execute_result"
    }
   ],
   "source": [
    "esdc_raw.loc[esdc_raw.field_name.isna(), :]"
   ]
  },
  {
   "cell_type": "code",
   "execution_count": 401,
   "metadata": {},
   "outputs": [],
   "source": [
    "esdc_raw.loc[esdc_raw.field_name.isna(), 'field_name'] = 'PETROGAS_FIELD'"
   ]
  },
  {
   "cell_type": "code",
   "execution_count": 402,
   "metadata": {},
   "outputs": [
    {
     "data": {
      "text/html": [
       "<div>\n",
       "<style scoped>\n",
       "    .dataframe tbody tr th:only-of-type {\n",
       "        vertical-align: middle;\n",
       "    }\n",
       "\n",
       "    .dataframe tbody tr th {\n",
       "        vertical-align: top;\n",
       "    }\n",
       "\n",
       "    .dataframe thead th {\n",
       "        text-align: right;\n",
       "    }\n",
       "</style>\n",
       "<table border=\"1\" class=\"dataframe\">\n",
       "  <thead>\n",
       "    <tr style=\"text-align: right;\">\n",
       "      <th></th>\n",
       "      <th>Total</th>\n",
       "      <th>Percent</th>\n",
       "    </tr>\n",
       "  </thead>\n",
       "  <tbody>\n",
       "    <tr>\n",
       "      <th>fluid</th>\n",
       "      <td>0</td>\n",
       "      <td>0.0</td>\n",
       "    </tr>\n",
       "    <tr>\n",
       "      <th>api_dens</th>\n",
       "      <td>0</td>\n",
       "      <td>0.0</td>\n",
       "    </tr>\n",
       "    <tr>\n",
       "      <th>NPV</th>\n",
       "      <td>0</td>\n",
       "      <td>0.0</td>\n",
       "    </tr>\n",
       "    <tr>\n",
       "      <th>region</th>\n",
       "      <td>0</td>\n",
       "      <td>0.0</td>\n",
       "    </tr>\n",
       "    <tr>\n",
       "      <th>location</th>\n",
       "      <td>0</td>\n",
       "      <td>0.0</td>\n",
       "    </tr>\n",
       "    <tr>\n",
       "      <th>avg_fluid_rate</th>\n",
       "      <td>0</td>\n",
       "      <td>0.0</td>\n",
       "    </tr>\n",
       "    <tr>\n",
       "      <th>total_cost</th>\n",
       "      <td>0</td>\n",
       "      <td>0.0</td>\n",
       "    </tr>\n",
       "    <tr>\n",
       "      <th>opr_cost</th>\n",
       "      <td>0</td>\n",
       "      <td>0.0</td>\n",
       "    </tr>\n",
       "    <tr>\n",
       "      <th>cap_cost</th>\n",
       "      <td>0</td>\n",
       "      <td>0.0</td>\n",
       "    </tr>\n",
       "    <tr>\n",
       "      <th>visc</th>\n",
       "      <td>0</td>\n",
       "      <td>0.0</td>\n",
       "    </tr>\n",
       "    <tr>\n",
       "      <th>saturate</th>\n",
       "      <td>0</td>\n",
       "      <td>0.0</td>\n",
       "    </tr>\n",
       "    <tr>\n",
       "      <th>field_name</th>\n",
       "      <td>0</td>\n",
       "      <td>0.0</td>\n",
       "    </tr>\n",
       "    <tr>\n",
       "      <th>perm</th>\n",
       "      <td>0</td>\n",
       "      <td>0.0</td>\n",
       "    </tr>\n",
       "    <tr>\n",
       "      <th>poro</th>\n",
       "      <td>0</td>\n",
       "      <td>0.0</td>\n",
       "    </tr>\n",
       "    <tr>\n",
       "      <th>temp</th>\n",
       "      <td>0</td>\n",
       "      <td>0.0</td>\n",
       "    </tr>\n",
       "    <tr>\n",
       "      <th>depth</th>\n",
       "      <td>0</td>\n",
       "      <td>0.0</td>\n",
       "    </tr>\n",
       "    <tr>\n",
       "      <th>inplace</th>\n",
       "      <td>0</td>\n",
       "      <td>0.0</td>\n",
       "    </tr>\n",
       "    <tr>\n",
       "      <th>project_level</th>\n",
       "      <td>0</td>\n",
       "      <td>0.0</td>\n",
       "    </tr>\n",
       "    <tr>\n",
       "      <th>project_status</th>\n",
       "      <td>0</td>\n",
       "      <td>0.0</td>\n",
       "    </tr>\n",
       "    <tr>\n",
       "      <th>operator</th>\n",
       "      <td>0</td>\n",
       "      <td>0.0</td>\n",
       "    </tr>\n",
       "    <tr>\n",
       "      <th>PI</th>\n",
       "      <td>0</td>\n",
       "      <td>0.0</td>\n",
       "    </tr>\n",
       "  </tbody>\n",
       "</table>\n",
       "</div>"
      ],
      "text/plain": [
       "                Total  Percent\n",
       "fluid               0      0.0\n",
       "api_dens            0      0.0\n",
       "NPV                 0      0.0\n",
       "region              0      0.0\n",
       "location            0      0.0\n",
       "avg_fluid_rate      0      0.0\n",
       "total_cost          0      0.0\n",
       "opr_cost            0      0.0\n",
       "cap_cost            0      0.0\n",
       "visc                0      0.0\n",
       "saturate            0      0.0\n",
       "field_name          0      0.0\n",
       "perm                0      0.0\n",
       "poro                0      0.0\n",
       "temp                0      0.0\n",
       "depth               0      0.0\n",
       "inplace             0      0.0\n",
       "project_level       0      0.0\n",
       "project_status      0      0.0\n",
       "operator            0      0.0\n",
       "PI                  0      0.0"
      ]
     },
     "execution_count": 402,
     "metadata": {},
     "output_type": "execute_result"
    }
   ],
   "source": [
    "total = esdc_raw.isnull().sum().sort_values(ascending=False)\n",
    "percent = (esdc_raw.isnull().sum()/esdc_raw.isnull().count()).sort_values(ascending=False)*100\n",
    "missing_data = pd.concat([total, percent], axis=1, keys=['Total', 'Percent'])\n",
    "missing_data"
   ]
  },
  {
   "cell_type": "markdown",
   "metadata": {},
   "source": [
    "---\n",
    "__Data Ready__"
   ]
  },
  {
   "cell_type": "code",
   "execution_count": 403,
   "metadata": {},
   "outputs": [],
   "source": [
    "esdc_raw.to_csv('Data/esdc_df.csv')"
   ]
  },
  {
   "cell_type": "markdown",
   "metadata": {},
   "source": [
    "---\n",
    "__Feature Engineering & EDA__"
   ]
  },
  {
   "cell_type": "code",
   "execution_count": 404,
   "metadata": {},
   "outputs": [
    {
     "data": {
      "text/html": [
       "<div>\n",
       "<style scoped>\n",
       "    .dataframe tbody tr th:only-of-type {\n",
       "        vertical-align: middle;\n",
       "    }\n",
       "\n",
       "    .dataframe tbody tr th {\n",
       "        vertical-align: top;\n",
       "    }\n",
       "\n",
       "    .dataframe thead th {\n",
       "        text-align: right;\n",
       "    }\n",
       "</style>\n",
       "<table border=\"1\" class=\"dataframe\">\n",
       "  <thead>\n",
       "    <tr style=\"text-align: right;\">\n",
       "      <th></th>\n",
       "      <th>fluid</th>\n",
       "      <th>field_name</th>\n",
       "      <th>operator</th>\n",
       "      <th>project_status</th>\n",
       "      <th>project_level</th>\n",
       "      <th>inplace</th>\n",
       "      <th>depth</th>\n",
       "      <th>temp</th>\n",
       "      <th>poro</th>\n",
       "      <th>perm</th>\n",
       "      <th>saturate</th>\n",
       "      <th>api_dens</th>\n",
       "      <th>visc</th>\n",
       "      <th>cap_cost</th>\n",
       "      <th>opr_cost</th>\n",
       "      <th>total_cost</th>\n",
       "      <th>avg_fluid_rate</th>\n",
       "      <th>location</th>\n",
       "      <th>region</th>\n",
       "      <th>NPV</th>\n",
       "      <th>PI</th>\n",
       "    </tr>\n",
       "  </thead>\n",
       "  <tbody>\n",
       "    <tr>\n",
       "      <th>0</th>\n",
       "      <td>Gas</td>\n",
       "      <td>ALAS TUA WEST</td>\n",
       "      <td>EXXONMOBIL CEPU LTD.</td>\n",
       "      <td>ONSHORE</td>\n",
       "      <td>X1. Discovery under Evaluation</td>\n",
       "      <td>280.00</td>\n",
       "      <td>5627.0</td>\n",
       "      <td>97.537911</td>\n",
       "      <td>0.231540</td>\n",
       "      <td>396.2948</td>\n",
       "      <td>0.544649</td>\n",
       "      <td>0.654735</td>\n",
       "      <td>0.0</td>\n",
       "      <td>88.121670</td>\n",
       "      <td>7.390892</td>\n",
       "      <td>95.512562</td>\n",
       "      <td>61.136190</td>\n",
       "      <td>Jawa Timur</td>\n",
       "      <td>Jawa</td>\n",
       "      <td>219.373400</td>\n",
       "      <td>2.296802</td>\n",
       "    </tr>\n",
       "    <tr>\n",
       "      <th>1</th>\n",
       "      <td>Gas</td>\n",
       "      <td>APNC</td>\n",
       "      <td>PT PERTAMINA HULU ENERGI OFFSHORE NORTH WEST JAVA</td>\n",
       "      <td>OFFSHORE</td>\n",
       "      <td>X3. Development Not Viable</td>\n",
       "      <td>5.00</td>\n",
       "      <td>1588.0</td>\n",
       "      <td>60.754449</td>\n",
       "      <td>0.371649</td>\n",
       "      <td>975.0449</td>\n",
       "      <td>0.586189</td>\n",
       "      <td>0.769757</td>\n",
       "      <td>0.0</td>\n",
       "      <td>16.350820</td>\n",
       "      <td>0.482584</td>\n",
       "      <td>16.833404</td>\n",
       "      <td>8.260639</td>\n",
       "      <td>Jawa Barat</td>\n",
       "      <td>Jawa</td>\n",
       "      <td>6.763115</td>\n",
       "      <td>0.401768</td>\n",
       "    </tr>\n",
       "    <tr>\n",
       "      <th>2</th>\n",
       "      <td>Gas</td>\n",
       "      <td>APNX</td>\n",
       "      <td>PT PERTAMINA HULU ENERGI OFFSHORE NORTH WEST JAVA</td>\n",
       "      <td>OFFSHORE</td>\n",
       "      <td>X3. Development Not Viable</td>\n",
       "      <td>17.31</td>\n",
       "      <td>3775.0</td>\n",
       "      <td>84.004423</td>\n",
       "      <td>0.350870</td>\n",
       "      <td>1985.5620</td>\n",
       "      <td>0.627856</td>\n",
       "      <td>0.774667</td>\n",
       "      <td>0.0</td>\n",
       "      <td>31.212980</td>\n",
       "      <td>5.444560</td>\n",
       "      <td>36.657540</td>\n",
       "      <td>0.209892</td>\n",
       "      <td>Jawa Barat</td>\n",
       "      <td>Jawa</td>\n",
       "      <td>25.005370</td>\n",
       "      <td>0.682134</td>\n",
       "    </tr>\n",
       "    <tr>\n",
       "      <th>3</th>\n",
       "      <td>Gas</td>\n",
       "      <td>BEKAPAI</td>\n",
       "      <td>PT PERTAMINA HULU MAHAKAM</td>\n",
       "      <td>BOTH</td>\n",
       "      <td>E8. Further Development Not Viable</td>\n",
       "      <td>7135.00</td>\n",
       "      <td>6383.0</td>\n",
       "      <td>76.450000</td>\n",
       "      <td>0.201267</td>\n",
       "      <td>619.7617</td>\n",
       "      <td>0.681374</td>\n",
       "      <td>0.783749</td>\n",
       "      <td>0.0</td>\n",
       "      <td>7.269243</td>\n",
       "      <td>15.765420</td>\n",
       "      <td>23.034663</td>\n",
       "      <td>15.833870</td>\n",
       "      <td>Selat Makasar</td>\n",
       "      <td>Kalimantan</td>\n",
       "      <td>3.810051</td>\n",
       "      <td>0.165405</td>\n",
       "    </tr>\n",
       "    <tr>\n",
       "      <th>4</th>\n",
       "      <td>Gas</td>\n",
       "      <td>BENTU DEEP</td>\n",
       "      <td>EMP BENTU LTD.</td>\n",
       "      <td>ONSHORE</td>\n",
       "      <td>X1. Discovery under Evaluation</td>\n",
       "      <td>15.90</td>\n",
       "      <td>2067.0</td>\n",
       "      <td>67.053312</td>\n",
       "      <td>0.213011</td>\n",
       "      <td>108.1771</td>\n",
       "      <td>0.701410</td>\n",
       "      <td>0.710626</td>\n",
       "      <td>0.0</td>\n",
       "      <td>6.147158</td>\n",
       "      <td>1.867879</td>\n",
       "      <td>8.015037</td>\n",
       "      <td>6.929915</td>\n",
       "      <td>Riau</td>\n",
       "      <td>Sumatera</td>\n",
       "      <td>112.446500</td>\n",
       "      <td>14.029442</td>\n",
       "    </tr>\n",
       "  </tbody>\n",
       "</table>\n",
       "</div>"
      ],
      "text/plain": [
       "  fluid     field_name                                           operator  \\\n",
       "0   Gas  ALAS TUA WEST                               EXXONMOBIL CEPU LTD.   \n",
       "1   Gas           APNC  PT PERTAMINA HULU ENERGI OFFSHORE NORTH WEST JAVA   \n",
       "2   Gas           APNX  PT PERTAMINA HULU ENERGI OFFSHORE NORTH WEST JAVA   \n",
       "3   Gas        BEKAPAI                          PT PERTAMINA HULU MAHAKAM   \n",
       "4   Gas     BENTU DEEP                                     EMP BENTU LTD.   \n",
       "\n",
       "  project_status                       project_level  inplace   depth  \\\n",
       "0        ONSHORE      X1. Discovery under Evaluation   280.00  5627.0   \n",
       "1       OFFSHORE          X3. Development Not Viable     5.00  1588.0   \n",
       "2       OFFSHORE          X3. Development Not Viable    17.31  3775.0   \n",
       "3           BOTH  E8. Further Development Not Viable  7135.00  6383.0   \n",
       "4        ONSHORE      X1. Discovery under Evaluation    15.90  2067.0   \n",
       "\n",
       "        temp      poro       perm  saturate  api_dens  visc   cap_cost  \\\n",
       "0  97.537911  0.231540   396.2948  0.544649  0.654735   0.0  88.121670   \n",
       "1  60.754449  0.371649   975.0449  0.586189  0.769757   0.0  16.350820   \n",
       "2  84.004423  0.350870  1985.5620  0.627856  0.774667   0.0  31.212980   \n",
       "3  76.450000  0.201267   619.7617  0.681374  0.783749   0.0   7.269243   \n",
       "4  67.053312  0.213011   108.1771  0.701410  0.710626   0.0   6.147158   \n",
       "\n",
       "    opr_cost  total_cost  avg_fluid_rate       location      region  \\\n",
       "0   7.390892   95.512562       61.136190     Jawa Timur        Jawa   \n",
       "1   0.482584   16.833404        8.260639     Jawa Barat        Jawa   \n",
       "2   5.444560   36.657540        0.209892     Jawa Barat        Jawa   \n",
       "3  15.765420   23.034663       15.833870  Selat Makasar  Kalimantan   \n",
       "4   1.867879    8.015037        6.929915           Riau    Sumatera   \n",
       "\n",
       "          NPV         PI  \n",
       "0  219.373400   2.296802  \n",
       "1    6.763115   0.401768  \n",
       "2   25.005370   0.682134  \n",
       "3    3.810051   0.165405  \n",
       "4  112.446500  14.029442  "
      ]
     },
     "execution_count": 404,
     "metadata": {},
     "output_type": "execute_result"
    }
   ],
   "source": [
    "esdc_df = pd.read_csv('Data/esdc_df.csv')\n",
    "esdc_df.drop(columns='Unnamed: 0', inplace=True)\n",
    "esdc_df.head()"
   ]
  },
  {
   "cell_type": "markdown",
   "metadata": {},
   "source": [
    "> _PI Engineering_"
   ]
  },
  {
   "cell_type": "code",
   "execution_count": 405,
   "metadata": {},
   "outputs": [
    {
     "data": {
      "text/plain": [
       "E7. Production Not Viable             132\n",
       "E0. On Production                     122\n",
       "X1. Discovery under Evaluation        112\n",
       "E6. Further Development                74\n",
       "E4. Production Pending                 70\n",
       "E5. Development Unclarified            53\n",
       "X3. Development Not Viable             42\n",
       "E3. Justified for Development          36\n",
       "X0. Development Pending                31\n",
       "E2. Under Development                  20\n",
       "X2. Development Undetermined           18\n",
       "E8. Further Development Not Viable     17\n",
       "E1. Production on Hold                  7\n",
       "Name: project_level, dtype: int64"
      ]
     },
     "execution_count": 405,
     "metadata": {},
     "output_type": "execute_result"
    }
   ],
   "source": [
    "esdc_df.project_level.value_counts()"
   ]
  },
  {
   "cell_type": "code",
   "execution_count": 406,
   "metadata": {},
   "outputs": [
    {
     "data": {
      "text/plain": [
       "project_level\n",
       "E0. On Production                     2.033117\n",
       "E1. Production on Hold                3.128682\n",
       "E2. Under Development                 2.420781\n",
       "E3. Justified for Development         0.849384\n",
       "E4. Production Pending                0.965692\n",
       "E5. Development Unclarified           1.459044\n",
       "E6. Further Development               1.223655\n",
       "E7. Production Not Viable             0.749261\n",
       "E8. Further Development Not Viable    2.094478\n",
       "X0. Development Pending               1.240810\n",
       "X1. Discovery under Evaluation        1.220731\n",
       "X2. Development Undetermined          0.850525\n",
       "X3. Development Not Viable            0.584434\n",
       "Name: PI, dtype: float64"
      ]
     },
     "execution_count": 406,
     "metadata": {},
     "output_type": "execute_result"
    }
   ],
   "source": [
    "esdc_df.groupby('project_level')['PI'].mean()"
   ]
  },
  {
   "cell_type": "markdown",
   "metadata": {},
   "source": [
    "> Based on dataset that we have, we agree that those PI values ranging in numerical manner. We believe that having this number on high level evaluation/ predictive model output are not informative so we decide to categorize those elements by using unique name related to their prospect as : High, Med, and NonPros. To simplify the modeling process we replace those value to become : High = 2, Med = 1, and NonPros = 0."
   ]
  },
  {
   "cell_type": "markdown",
   "metadata": {},
   "source": [
    "> The naming process begins by doing some analysis to find mean value for each `project_level`. We believe that `project_level` has strong relation to `PI` because we can spot the differences on their mean related to their level. For instance, E0 when fields are categorized as \"On Production\" meaning those field has already produced and delivered a cashflow (projects are profitable) has mean `PI` value as high as 2 (profitable). We agree that this visual segmentation process is prone to bias because it is not supported by statistical analysis related to their dataset."
   ]
  },
  {
   "cell_type": "markdown",
   "metadata": {},
   "source": [
    "> To make an objective studies and deliver a reliable model we are going to use statistical analysis to support out segmentation process in separating `PI` adjacent to their `project_level` by assuming their distribution are normal distribution (FIG-5). This process begin by doing statistical significant analysis sequentially as follow:\n",
    "- Separate HIGH from MED + NonPros (is it HIGH significant by mean value from 2 others?)\n",
    "- Separate MED from NonPros (is it MED significant by mean value from NonPros?)"
   ]
  },
  {
   "cell_type": "code",
   "execution_count": 407,
   "metadata": {},
   "outputs": [
    {
     "data": {
      "image/png": "[encoded data removed]",
      "text/plain": [
       "<Figure size 1296.85x720 with 1 Axes>"
      ]
     },
     "metadata": {},
     "output_type": "display_data"
    }
   ],
   "source": [
    "sns.displot(x='PI', hue='project_level', data=esdc_df.loc[esdc_df.PI <= 20, :], height=10, aspect=1.5, kind='kde')\n",
    "\n",
    "plt.axvline(2, c='r')\n",
    "plt.axvline(0.58, c='k')\n",
    "plt.title('FIG-5: PI Breakdown for Each Project Level');"
   ]
  },
  {
   "cell_type": "markdown",
   "metadata": {},
   "source": [
    "> Statistical significant test will be conducting using t-test. In order to perform such test we will generate new feature to accomodate prospect rank as mentioned above (High=2, Med=1, and NonPros=0), this feature will be called `prospect_rank`\n"
   ]
  },
  {
   "cell_type": "markdown",
   "metadata": {},
   "source": [
    "> That feature are related to `project_level` segmented by their `PI` mean value. For clarity we show the segementation in detail just below:\n",
    "- High = 2 --> E0, E1, E2, and E8\n",
    "- Med = 1 --> E3, E4, E5, E6, X0, X1, X2\n",
    "- NonPros = 0 --> E7 & X3"
   ]
  },
  {
   "cell_type": "code",
   "execution_count": 408,
   "metadata": {},
   "outputs": [],
   "source": [
    "esdc_df['prospect_rank'] = esdc_df.apply(lambda row: 2 if ((row['project_level'] == 'E0. On Production') | (row['project_level'] == 'E1. Production on Hold')\n",
    "                        | (row['project_level'] == 'E2. Under Development') | (row['project_level'] == 'E8. Further Development Not Viable')) else 0\n",
    "                        if ((row['project_level'] == 'E7. Production Not Viable') | (row['project_level'] == 'X3. Development Not Viable')) else 1, axis=1)"
   ]
  },
  {
   "cell_type": "code",
   "execution_count": 409,
   "metadata": {},
   "outputs": [
    {
     "data": {
      "image/png": "[encoded data removed]",
      "text/plain": [
       "<Figure size 1164.67x720 with 1 Axes>"
      ]
     },
     "metadata": {},
     "output_type": "display_data"
    }
   ],
   "source": [
    "sns.displot(x='PI', hue='prospect_rank', data=esdc_df.loc[esdc_df.PI <= 20, :], height=10, aspect=1.5, kind='kde')\n",
    "\n",
    "plt.axvline(2.132306, c='r', label='High Mean', ls='--')\n",
    "plt.axvline(1.158763, c='k', label = 'Med Mean', ls='--')\n",
    "plt.axvline(0.709475, c='b', label= 'NonPros Mean', ls='--')\n",
    "plt.legend()\n",
    "\n",
    "\n",
    "plt.title('FIG-6: PI Breakdown for Each Prospect Rank');"
   ]
  },
  {
   "cell_type": "code",
   "execution_count": 410,
   "metadata": {},
   "outputs": [],
   "source": [
    "from joypy import joyplot"
   ]
  },
  {
   "cell_type": "code",
   "execution_count": 411,
   "metadata": {},
   "outputs": [
    {
     "data": {
      "image/png": "[encoded data removed]",
      "text/plain": [
       "<Figure size 1080x504 with 4 Axes>"
      ]
     },
     "metadata": {},
     "output_type": "display_data"
    }
   ],
   "source": [
    "joyplot(esdc_df, by='prospect_rank', column='PI', colormap=sns.color_palette('crest', as_cmap=True))\n",
    "\n",
    "plt.axvline(2.132306, c='r', label='High Mean', ls='--')\n",
    "plt.axvline(1.158763, c='k', label = 'Med Mean', ls='--')\n",
    "plt.axvline(0.709475, c='b', label= 'NonPros Mean', ls='--')\n",
    "plt.legend()\n",
    "\n",
    "plt.xlabel('PI')\n",
    "plt.title('FIG-7: Ridgeline Plot of PI Breakdown for Each Prospect Rank');"
   ]
  },
  {
   "cell_type": "code",
   "execution_count": 412,
   "metadata": {},
   "outputs": [
    {
     "data": {
      "text/plain": [
       "prospect_rank\n",
       "0    0.579784\n",
       "1    0.921132\n",
       "2    1.011531\n",
       "Name: PI, dtype: float64"
      ]
     },
     "execution_count": 412,
     "metadata": {},
     "output_type": "execute_result"
    }
   ],
   "source": [
    "esdc_df.loc[esdc_df.PI <= 5, :].groupby('prospect_rank')['PI'].mean()"
   ]
  },
  {
   "cell_type": "code",
   "execution_count": 413,
   "metadata": {},
   "outputs": [
    {
     "data": {
      "text/plain": [
       "prospect_rank\n",
       "0    0.709475\n",
       "1    1.158763\n",
       "2    2.132306\n",
       "Name: PI, dtype: float64"
      ]
     },
     "execution_count": 413,
     "metadata": {},
     "output_type": "execute_result"
    }
   ],
   "source": [
    "esdc_df.groupby('prospect_rank')['PI'].mean()"
   ]
  },
  {
   "cell_type": "markdown",
   "metadata": {},
   "source": [
    "> From joyplot on FIG-7 & 2 codes above we can spot the differences between those 3 data distribution when single mean value might be not representative to be used on statistical significant analysis (independence) as each of them having fat tailed distribution. To overcome this issue we are going to conduct multiple significant test known as t-Test, ChiSquared Test, f-Test, and The Kruskal-Wallis H-Test."
   ]
  },
  {
   "cell_type": "code",
   "execution_count": 414,
   "metadata": {},
   "outputs": [],
   "source": [
    "from scipy import stats"
   ]
  },
  {
   "cell_type": "markdown",
   "metadata": {},
   "source": [
    "t-Test:"
   ]
  },
  {
   "cell_type": "markdown",
   "metadata": {},
   "source": [
    ">This is a test for the null hypothesis that 2 independent samples have identical average (expected) values. This test assumes that the populations have identical variances by default\n",
    ">> 1. Separating 2 from 1 & 0"
   ]
  },
  {
   "cell_type": "code",
   "execution_count": 415,
   "metadata": {},
   "outputs": [
    {
     "data": {
      "text/plain": [
       "Ttest_indResult(statistic=2.5626258876008614, pvalue=0.01123801518556235)"
      ]
     },
     "execution_count": 415,
     "metadata": {},
     "output_type": "execute_result"
    }
   ],
   "source": [
    "stats.ttest_ind(esdc_df.loc[esdc_df.prospect_rank == 2, 'PI'], esdc_df.loc[~(esdc_df.prospect_rank == 2), 'PI'],\n",
    "                equal_var=False)"
   ]
  },
  {
   "cell_type": "markdown",
   "metadata": {},
   "source": [
    "> If we assumed that p-value cut-off to infer conclusion (rejecting null) from data as high as 0.05 (5%) then from our calculation shown on code above we can conclude that from the data we have and segmentation we did between 2 & (1+0), we are able to separate 2 as it has independencies (statiscally speaking) from others."
   ]
  },
  {
   "cell_type": "markdown",
   "metadata": {},
   "source": [
    ">> 2. Separating 1 from 0"
   ]
  },
  {
   "cell_type": "code",
   "execution_count": 416,
   "metadata": {},
   "outputs": [
    {
     "data": {
      "text/plain": [
       "Ttest_indResult(statistic=3.514572488953012, pvalue=0.00048341526078993024)"
      ]
     },
     "execution_count": 416,
     "metadata": {},
     "output_type": "execute_result"
    }
   ],
   "source": [
    "stats.ttest_ind(esdc_df.loc[esdc_df.prospect_rank == 1, 'PI'], esdc_df.loc[esdc_df.prospect_rank == 0, 'PI'],\n",
    "                equal_var=False)"
   ]
  },
  {
   "cell_type": "markdown",
   "metadata": {},
   "source": [
    "> If we assumed that p-value cut-off to infer conclusion (rejecting null) from data as high as 0.05 (5%) then from our calculation shown on code above we can conclude that from the data we have and segmentation we did between 1 & 0, we are able to separate 1 as it has independencies (statiscally speaking) from 0."
   ]
  },
  {
   "cell_type": "markdown",
   "metadata": {},
   "source": [
    "Chi-Squared Test:"
   ]
  },
  {
   "cell_type": "markdown",
   "metadata": {},
   "source": [
    ">This is a test for the null hypothesis that 2 independent samples. One of the least known applications of the chi-squared test is \"testing the similarity between two distributions\". If the two distributions were the same, we would expect the same frequency of observations in each bin. Please remember, this is a test for whole distribution shape not just mean value as t-Test did to conclude whether 2 datas along with their distribution are different statisticaly.\n",
    "\n",
    ">The reason lies in the fact that the two distributions have a similar center but different tails and the chi-squared test tests the similarity along the whole distribution and not only in the center, as we were doing with the previous tests\n",
    "\n",
    ">> 1. Separating 2 from 1 & 0"
   ]
  },
  {
   "cell_type": "code",
   "execution_count": 417,
   "metadata": {},
   "outputs": [
    {
     "data": {
      "text/html": [
       "<div>\n",
       "<style scoped>\n",
       "    .dataframe tbody tr th:only-of-type {\n",
       "        vertical-align: middle;\n",
       "    }\n",
       "\n",
       "    .dataframe tbody tr th {\n",
       "        vertical-align: top;\n",
       "    }\n",
       "\n",
       "    .dataframe thead th {\n",
       "        text-align: right;\n",
       "    }\n",
       "</style>\n",
       "<table border=\"1\" class=\"dataframe\">\n",
       "  <thead>\n",
       "    <tr style=\"text-align: right;\">\n",
       "      <th></th>\n",
       "      <th>bin</th>\n",
       "      <th>2</th>\n",
       "      <th>0&amp;1</th>\n",
       "      <th>expected</th>\n",
       "    </tr>\n",
       "  </thead>\n",
       "  <tbody>\n",
       "    <tr>\n",
       "      <th>0</th>\n",
       "      <td>(0.0928, 0.242]</td>\n",
       "      <td>17</td>\n",
       "      <td>98</td>\n",
       "      <td>336.169697</td>\n",
       "    </tr>\n",
       "    <tr>\n",
       "      <th>1</th>\n",
       "      <td>(0.242, 0.355]</td>\n",
       "      <td>17</td>\n",
       "      <td>91</td>\n",
       "      <td>312.157576</td>\n",
       "    </tr>\n",
       "    <tr>\n",
       "      <th>2</th>\n",
       "      <td>(0.77, 1.028]</td>\n",
       "      <td>17</td>\n",
       "      <td>72</td>\n",
       "      <td>246.981818</td>\n",
       "    </tr>\n",
       "    <tr>\n",
       "      <th>3</th>\n",
       "      <td>(1.574, 2.377]</td>\n",
       "      <td>17</td>\n",
       "      <td>61</td>\n",
       "      <td>209.248485</td>\n",
       "    </tr>\n",
       "    <tr>\n",
       "      <th>4</th>\n",
       "      <td>(4.082, 61.263]</td>\n",
       "      <td>17</td>\n",
       "      <td>54</td>\n",
       "      <td>185.236364</td>\n",
       "    </tr>\n",
       "    <tr>\n",
       "      <th>5</th>\n",
       "      <td>(-0.204, 0.0928]</td>\n",
       "      <td>16</td>\n",
       "      <td>51</td>\n",
       "      <td>174.945455</td>\n",
       "    </tr>\n",
       "    <tr>\n",
       "      <th>6</th>\n",
       "      <td>(0.355, 0.563]</td>\n",
       "      <td>16</td>\n",
       "      <td>43</td>\n",
       "      <td>147.503030</td>\n",
       "    </tr>\n",
       "    <tr>\n",
       "      <th>7</th>\n",
       "      <td>(0.563, 0.77]</td>\n",
       "      <td>16</td>\n",
       "      <td>37</td>\n",
       "      <td>126.921212</td>\n",
       "    </tr>\n",
       "    <tr>\n",
       "      <th>8</th>\n",
       "      <td>(1.028, 1.574]</td>\n",
       "      <td>16</td>\n",
       "      <td>32</td>\n",
       "      <td>109.769697</td>\n",
       "    </tr>\n",
       "    <tr>\n",
       "      <th>9</th>\n",
       "      <td>(2.377, 4.082]</td>\n",
       "      <td>16</td>\n",
       "      <td>27</td>\n",
       "      <td>92.618182</td>\n",
       "    </tr>\n",
       "  </tbody>\n",
       "</table>\n",
       "</div>"
      ],
      "text/plain": [
       "                bin   2  0&1    expected\n",
       "0   (0.0928, 0.242]  17   98  336.169697\n",
       "1    (0.242, 0.355]  17   91  312.157576\n",
       "2     (0.77, 1.028]  17   72  246.981818\n",
       "3    (1.574, 2.377]  17   61  209.248485\n",
       "4   (4.082, 61.263]  17   54  185.236364\n",
       "5  (-0.204, 0.0928]  16   51  174.945455\n",
       "6    (0.355, 0.563]  16   43  147.503030\n",
       "7     (0.563, 0.77]  16   37  126.921212\n",
       "8    (1.028, 1.574]  16   32  109.769697\n",
       "9    (2.377, 4.082]  16   27   92.618182"
      ]
     },
     "execution_count": 417,
     "metadata": {},
     "output_type": "execute_result"
    }
   ],
   "source": [
    "# Init dataframe\n",
    "df_bins = pd.DataFrame()\n",
    "\n",
    "# Generate bins from control group\n",
    "_, bins = pd.qcut(esdc_df.loc[esdc_df.prospect_rank == 2, 'PI'], q=10, retbins=True)\n",
    "df_bins['bin'] = pd.cut(esdc_df.loc[esdc_df.prospect_rank == 2, 'PI'], bins=bins).value_counts().index\n",
    "\n",
    "# Apply bins to both groups\n",
    "df_bins['2'] = pd.cut(esdc_df.loc[esdc_df.prospect_rank == 2, 'PI'], bins=bins).value_counts().values #As Treatment \n",
    "df_bins['0&1'] = pd.cut(esdc_df.loc[~(esdc_df.prospect_rank == 2), 'PI'], bins=bins).value_counts().values #As Control\n",
    "\n",
    "# Compute expected frequency in the treatment group\n",
    "df_bins['expected'] = df_bins['0&1'] / np.sum(df_bins['2']) * np.sum(df_bins['0&1'])\n",
    "\n",
    "df_bins"
   ]
  },
  {
   "cell_type": "code",
   "execution_count": 418,
   "metadata": {},
   "outputs": [],
   "source": [
    "from scipy.stats import chisquare"
   ]
  },
  {
   "cell_type": "code",
   "execution_count": 419,
   "metadata": {},
   "outputs": [
    {
     "data": {
      "text/plain": [
       "Power_divergenceResult(statistic=1627.7605047220818, pvalue=0.0)"
      ]
     },
     "execution_count": 419,
     "metadata": {},
     "output_type": "execute_result"
    }
   ],
   "source": [
    "chisquare(df_bins['2'], df_bins['expected'])"
   ]
  },
  {
   "cell_type": "markdown",
   "metadata": {},
   "source": [
    "> If we assumed that p-value cut-off to infer conclusion (rejecting null) from data as high as 0.05 (5%) then from our calculation shown on code above we can conclude that from the data we have and segmentation we did between 2 & (1+0), we are able to separate 2 as it has independencies (statiscally speaking) from others."
   ]
  },
  {
   "cell_type": "markdown",
   "metadata": {},
   "source": [
    ">> 2. Separating 1 from 0"
   ]
  },
  {
   "cell_type": "code",
   "execution_count": 420,
   "metadata": {},
   "outputs": [
    {
     "data": {
      "text/html": [
       "<div>\n",
       "<style scoped>\n",
       "    .dataframe tbody tr th:only-of-type {\n",
       "        vertical-align: middle;\n",
       "    }\n",
       "\n",
       "    .dataframe tbody tr th {\n",
       "        vertical-align: top;\n",
       "    }\n",
       "\n",
       "    .dataframe thead th {\n",
       "        text-align: right;\n",
       "    }\n",
       "</style>\n",
       "<table border=\"1\" class=\"dataframe\">\n",
       "  <thead>\n",
       "    <tr style=\"text-align: right;\">\n",
       "      <th></th>\n",
       "      <th>bin</th>\n",
       "      <th>1</th>\n",
       "      <th>0</th>\n",
       "      <th>expected</th>\n",
       "    </tr>\n",
       "  </thead>\n",
       "  <tbody>\n",
       "    <tr>\n",
       "      <th>0</th>\n",
       "      <td>(0.295, 0.417]</td>\n",
       "      <td>40</td>\n",
       "      <td>32</td>\n",
       "      <td>14.086514</td>\n",
       "    </tr>\n",
       "    <tr>\n",
       "      <th>1</th>\n",
       "      <td>(0.555, 0.774]</td>\n",
       "      <td>40</td>\n",
       "      <td>25</td>\n",
       "      <td>11.005089</td>\n",
       "    </tr>\n",
       "    <tr>\n",
       "      <th>2</th>\n",
       "      <td>(2.998, 14.029]</td>\n",
       "      <td>40</td>\n",
       "      <td>25</td>\n",
       "      <td>11.005089</td>\n",
       "    </tr>\n",
       "    <tr>\n",
       "      <th>3</th>\n",
       "      <td>(-0.204, 0.11]</td>\n",
       "      <td>39</td>\n",
       "      <td>20</td>\n",
       "      <td>8.804071</td>\n",
       "    </tr>\n",
       "    <tr>\n",
       "      <th>4</th>\n",
       "      <td>(0.11, 0.18]</td>\n",
       "      <td>39</td>\n",
       "      <td>15</td>\n",
       "      <td>6.603053</td>\n",
       "    </tr>\n",
       "    <tr>\n",
       "      <th>5</th>\n",
       "      <td>(0.18, 0.295]</td>\n",
       "      <td>39</td>\n",
       "      <td>15</td>\n",
       "      <td>6.603053</td>\n",
       "    </tr>\n",
       "    <tr>\n",
       "      <th>6</th>\n",
       "      <td>(0.417, 0.555]</td>\n",
       "      <td>39</td>\n",
       "      <td>15</td>\n",
       "      <td>6.603053</td>\n",
       "    </tr>\n",
       "    <tr>\n",
       "      <th>7</th>\n",
       "      <td>(0.774, 0.986]</td>\n",
       "      <td>39</td>\n",
       "      <td>12</td>\n",
       "      <td>5.282443</td>\n",
       "    </tr>\n",
       "    <tr>\n",
       "      <th>8</th>\n",
       "      <td>(0.986, 1.658]</td>\n",
       "      <td>39</td>\n",
       "      <td>8</td>\n",
       "      <td>3.521628</td>\n",
       "    </tr>\n",
       "    <tr>\n",
       "      <th>9</th>\n",
       "      <td>(1.658, 2.998]</td>\n",
       "      <td>39</td>\n",
       "      <td>6</td>\n",
       "      <td>2.641221</td>\n",
       "    </tr>\n",
       "  </tbody>\n",
       "</table>\n",
       "</div>"
      ],
      "text/plain": [
       "               bin   1   0   expected\n",
       "0   (0.295, 0.417]  40  32  14.086514\n",
       "1   (0.555, 0.774]  40  25  11.005089\n",
       "2  (2.998, 14.029]  40  25  11.005089\n",
       "3   (-0.204, 0.11]  39  20   8.804071\n",
       "4     (0.11, 0.18]  39  15   6.603053\n",
       "5    (0.18, 0.295]  39  15   6.603053\n",
       "6   (0.417, 0.555]  39  15   6.603053\n",
       "7   (0.774, 0.986]  39  12   5.282443\n",
       "8   (0.986, 1.658]  39   8   3.521628\n",
       "9   (1.658, 2.998]  39   6   2.641221"
      ]
     },
     "execution_count": 420,
     "metadata": {},
     "output_type": "execute_result"
    }
   ],
   "source": [
    "# Init dataframe\n",
    "df_bins = pd.DataFrame()\n",
    "\n",
    "# Generate bins from control group\n",
    "_, bins = pd.qcut(esdc_df.loc[esdc_df.prospect_rank == 1, 'PI'], q=10, retbins=True)\n",
    "df_bins['bin'] = pd.cut(esdc_df.loc[esdc_df.prospect_rank == 1, 'PI'], bins=bins).value_counts().index\n",
    "\n",
    "# Apply bins to both groups\n",
    "df_bins['1'] = pd.cut(esdc_df.loc[esdc_df.prospect_rank == 1, 'PI'], bins=bins).value_counts().values #As Treatment \n",
    "df_bins['0'] = pd.cut(esdc_df.loc[(esdc_df.prospect_rank == 0), 'PI'], bins=bins).value_counts().values #As Control\n",
    "\n",
    "# Compute expected frequency in the treatment group\n",
    "df_bins['expected'] = df_bins['0'] / np.sum(df_bins['1']) * np.sum(df_bins['0'])\n",
    "\n",
    "df_bins"
   ]
  },
  {
   "cell_type": "code",
   "execution_count": 421,
   "metadata": {},
   "outputs": [
    {
     "data": {
      "text/plain": [
       "Power_divergenceResult(statistic=1854.0258810248718, pvalue=0.0)"
      ]
     },
     "execution_count": 421,
     "metadata": {},
     "output_type": "execute_result"
    }
   ],
   "source": [
    "chisquare(df_bins['1'], df_bins['expected'])"
   ]
  },
  {
   "cell_type": "markdown",
   "metadata": {},
   "source": [
    "> If we assumed that p-value cut-off to infer conclusion (rejecting null) from data as high as 0.05 (5%) then from our calculation shown on code above we can conclude that from the data we have and segmentation we did between 1 & 0, we are able to separate 1 as it has independencies (statiscally speaking) from 0."
   ]
  },
  {
   "cell_type": "markdown",
   "metadata": {},
   "source": [
    "f-Test:"
   ]
  },
  {
   "cell_type": "markdown",
   "metadata": {},
   "source": [
    "> With multiple groups, the most popular test is the F-test. The F-test compares the variance of a variable across different groups. This analysis is also called analysis of variance, or ANOVA"
   ]
  },
  {
   "cell_type": "markdown",
   "metadata": {},
   "source": [
    "> The ANOVA test has important assumptions that must be satisfied in order for the associated p-value to be valid:\n",
    "\n",
    "- The samples are independent.\n",
    "- Each sample is from a normally distributed population.\n",
    "- The population standard deviations of the groups are all equal. This property is known as homoscedasticity."
   ]
  },
  {
   "cell_type": "code",
   "execution_count": 422,
   "metadata": {},
   "outputs": [],
   "source": [
    "from scipy.stats import f_oneway"
   ]
  },
  {
   "cell_type": "code",
   "execution_count": 423,
   "metadata": {},
   "outputs": [
    {
     "data": {
      "text/plain": [
       "F_onewayResult(statistic=10.294045218404696, pvalue=3.900781179669663e-05)"
      ]
     },
     "execution_count": 423,
     "metadata": {},
     "output_type": "execute_result"
    }
   ],
   "source": [
    "stats.f_oneway(esdc_df.loc[esdc_df.prospect_rank == 2, 'PI'], esdc_df.loc[(esdc_df.prospect_rank == 1), 'PI'],\n",
    "                esdc_df.loc[(esdc_df.prospect_rank == 0), 'PI'])"
   ]
  },
  {
   "cell_type": "markdown",
   "metadata": {},
   "source": [
    "> The f-Test p-value is less than 0.05 (5%), implying a strong rejection of the null hypothesis of no differences in the `PI` distribution across `prospect_rank`"
   ]
  },
  {
   "cell_type": "markdown",
   "metadata": {},
   "source": [
    "The Kruskal-Wallis H-test:"
   ]
  },
  {
   "cell_type": "markdown",
   "metadata": {},
   "source": [
    "> Because the last assumption of f-Test are not fulfiled we add last test (The Kruskal-Wallis) to confirm independencies"
   ]
  },
  {
   "cell_type": "markdown",
   "metadata": {},
   "source": [
    "> The Kruskal-Wallis H-test tests the null hypothesis that the population median of all of the groups are equal. It is a non-parametric version of ANOVA. The test works on 2 or more independent samples, which may have different sizes."
   ]
  },
  {
   "cell_type": "code",
   "execution_count": 424,
   "metadata": {},
   "outputs": [
    {
     "data": {
      "text/plain": [
       "KruskalResult(statistic=28.31055333294545, pvalue=7.119368192553384e-07)"
      ]
     },
     "execution_count": 424,
     "metadata": {},
     "output_type": "execute_result"
    }
   ],
   "source": [
    "stats.kruskal(esdc_df.loc[esdc_df.prospect_rank == 2, 'PI'], esdc_df.loc[(esdc_df.prospect_rank == 1), 'PI'],\n",
    "                esdc_df.loc[(esdc_df.prospect_rank == 0), 'PI'])"
   ]
  },
  {
   "cell_type": "markdown",
   "metadata": {},
   "source": [
    "> Still, The p-value is significantly less than 0.05 (5%), implying a strong rejection of the null hypothesis of no differences in the `PI` distribution across `prospect_rank`"
   ]
  },
  {
   "cell_type": "markdown",
   "metadata": {},
   "source": [
    "> _Operator Engineering_"
   ]
  },
  {
   "cell_type": "code",
   "execution_count": 425,
   "metadata": {},
   "outputs": [
    {
     "data": {
      "text/html": [
       "<div>\n",
       "<style scoped>\n",
       "    .dataframe tbody tr th:only-of-type {\n",
       "        vertical-align: middle;\n",
       "    }\n",
       "\n",
       "    .dataframe tbody tr th {\n",
       "        vertical-align: top;\n",
       "    }\n",
       "\n",
       "    .dataframe thead th {\n",
       "        text-align: right;\n",
       "    }\n",
       "</style>\n",
       "<table border=\"1\" class=\"dataframe\">\n",
       "  <thead>\n",
       "    <tr style=\"text-align: right;\">\n",
       "      <th></th>\n",
       "      <th>fluid</th>\n",
       "      <th>field_name</th>\n",
       "      <th>operator</th>\n",
       "      <th>project_status</th>\n",
       "      <th>project_level</th>\n",
       "      <th>inplace</th>\n",
       "      <th>depth</th>\n",
       "      <th>temp</th>\n",
       "      <th>poro</th>\n",
       "      <th>perm</th>\n",
       "      <th>saturate</th>\n",
       "      <th>api_dens</th>\n",
       "      <th>visc</th>\n",
       "      <th>cap_cost</th>\n",
       "      <th>opr_cost</th>\n",
       "      <th>total_cost</th>\n",
       "      <th>avg_fluid_rate</th>\n",
       "      <th>location</th>\n",
       "      <th>region</th>\n",
       "      <th>NPV</th>\n",
       "      <th>PI</th>\n",
       "      <th>prospect_rank</th>\n",
       "    </tr>\n",
       "  </thead>\n",
       "  <tbody>\n",
       "    <tr>\n",
       "      <th>0</th>\n",
       "      <td>Gas</td>\n",
       "      <td>ALAS TUA WEST</td>\n",
       "      <td>EXXONMOBIL CEPU LTD.</td>\n",
       "      <td>ONSHORE</td>\n",
       "      <td>X1. Discovery under Evaluation</td>\n",
       "      <td>280.00</td>\n",
       "      <td>5627.0</td>\n",
       "      <td>97.537911</td>\n",
       "      <td>0.231540</td>\n",
       "      <td>396.2948</td>\n",
       "      <td>0.544649</td>\n",
       "      <td>0.654735</td>\n",
       "      <td>0.0</td>\n",
       "      <td>88.121670</td>\n",
       "      <td>7.390892</td>\n",
       "      <td>95.512562</td>\n",
       "      <td>61.136190</td>\n",
       "      <td>Jawa Timur</td>\n",
       "      <td>Jawa</td>\n",
       "      <td>219.373400</td>\n",
       "      <td>2.296802</td>\n",
       "      <td>1</td>\n",
       "    </tr>\n",
       "    <tr>\n",
       "      <th>1</th>\n",
       "      <td>Gas</td>\n",
       "      <td>APNC</td>\n",
       "      <td>PT PERTAMINA HULU ENERGI OFFSHORE NORTH WEST JAVA</td>\n",
       "      <td>OFFSHORE</td>\n",
       "      <td>X3. Development Not Viable</td>\n",
       "      <td>5.00</td>\n",
       "      <td>1588.0</td>\n",
       "      <td>60.754449</td>\n",
       "      <td>0.371649</td>\n",
       "      <td>975.0449</td>\n",
       "      <td>0.586189</td>\n",
       "      <td>0.769757</td>\n",
       "      <td>0.0</td>\n",
       "      <td>16.350820</td>\n",
       "      <td>0.482584</td>\n",
       "      <td>16.833404</td>\n",
       "      <td>8.260639</td>\n",
       "      <td>Jawa Barat</td>\n",
       "      <td>Jawa</td>\n",
       "      <td>6.763115</td>\n",
       "      <td>0.401768</td>\n",
       "      <td>0</td>\n",
       "    </tr>\n",
       "    <tr>\n",
       "      <th>2</th>\n",
       "      <td>Gas</td>\n",
       "      <td>APNX</td>\n",
       "      <td>PT PERTAMINA HULU ENERGI OFFSHORE NORTH WEST JAVA</td>\n",
       "      <td>OFFSHORE</td>\n",
       "      <td>X3. Development Not Viable</td>\n",
       "      <td>17.31</td>\n",
       "      <td>3775.0</td>\n",
       "      <td>84.004423</td>\n",
       "      <td>0.350870</td>\n",
       "      <td>1985.5620</td>\n",
       "      <td>0.627856</td>\n",
       "      <td>0.774667</td>\n",
       "      <td>0.0</td>\n",
       "      <td>31.212980</td>\n",
       "      <td>5.444560</td>\n",
       "      <td>36.657540</td>\n",
       "      <td>0.209892</td>\n",
       "      <td>Jawa Barat</td>\n",
       "      <td>Jawa</td>\n",
       "      <td>25.005370</td>\n",
       "      <td>0.682134</td>\n",
       "      <td>0</td>\n",
       "    </tr>\n",
       "    <tr>\n",
       "      <th>3</th>\n",
       "      <td>Gas</td>\n",
       "      <td>BEKAPAI</td>\n",
       "      <td>PT PERTAMINA HULU MAHAKAM</td>\n",
       "      <td>BOTH</td>\n",
       "      <td>E8. Further Development Not Viable</td>\n",
       "      <td>7135.00</td>\n",
       "      <td>6383.0</td>\n",
       "      <td>76.450000</td>\n",
       "      <td>0.201267</td>\n",
       "      <td>619.7617</td>\n",
       "      <td>0.681374</td>\n",
       "      <td>0.783749</td>\n",
       "      <td>0.0</td>\n",
       "      <td>7.269243</td>\n",
       "      <td>15.765420</td>\n",
       "      <td>23.034663</td>\n",
       "      <td>15.833870</td>\n",
       "      <td>Selat Makasar</td>\n",
       "      <td>Kalimantan</td>\n",
       "      <td>3.810051</td>\n",
       "      <td>0.165405</td>\n",
       "      <td>2</td>\n",
       "    </tr>\n",
       "    <tr>\n",
       "      <th>4</th>\n",
       "      <td>Gas</td>\n",
       "      <td>BENTU DEEP</td>\n",
       "      <td>EMP BENTU LTD.</td>\n",
       "      <td>ONSHORE</td>\n",
       "      <td>X1. Discovery under Evaluation</td>\n",
       "      <td>15.90</td>\n",
       "      <td>2067.0</td>\n",
       "      <td>67.053312</td>\n",
       "      <td>0.213011</td>\n",
       "      <td>108.1771</td>\n",
       "      <td>0.701410</td>\n",
       "      <td>0.710626</td>\n",
       "      <td>0.0</td>\n",
       "      <td>6.147158</td>\n",
       "      <td>1.867879</td>\n",
       "      <td>8.015037</td>\n",
       "      <td>6.929915</td>\n",
       "      <td>Riau</td>\n",
       "      <td>Sumatera</td>\n",
       "      <td>112.446500</td>\n",
       "      <td>14.029442</td>\n",
       "      <td>1</td>\n",
       "    </tr>\n",
       "  </tbody>\n",
       "</table>\n",
       "</div>"
      ],
      "text/plain": [
       "  fluid     field_name                                           operator  \\\n",
       "0   Gas  ALAS TUA WEST                               EXXONMOBIL CEPU LTD.   \n",
       "1   Gas           APNC  PT PERTAMINA HULU ENERGI OFFSHORE NORTH WEST JAVA   \n",
       "2   Gas           APNX  PT PERTAMINA HULU ENERGI OFFSHORE NORTH WEST JAVA   \n",
       "3   Gas        BEKAPAI                          PT PERTAMINA HULU MAHAKAM   \n",
       "4   Gas     BENTU DEEP                                     EMP BENTU LTD.   \n",
       "\n",
       "  project_status                       project_level  inplace   depth  \\\n",
       "0        ONSHORE      X1. Discovery under Evaluation   280.00  5627.0   \n",
       "1       OFFSHORE          X3. Development Not Viable     5.00  1588.0   \n",
       "2       OFFSHORE          X3. Development Not Viable    17.31  3775.0   \n",
       "3           BOTH  E8. Further Development Not Viable  7135.00  6383.0   \n",
       "4        ONSHORE      X1. Discovery under Evaluation    15.90  2067.0   \n",
       "\n",
       "        temp      poro       perm  saturate  api_dens  visc   cap_cost  \\\n",
       "0  97.537911  0.231540   396.2948  0.544649  0.654735   0.0  88.121670   \n",
       "1  60.754449  0.371649   975.0449  0.586189  0.769757   0.0  16.350820   \n",
       "2  84.004423  0.350870  1985.5620  0.627856  0.774667   0.0  31.212980   \n",
       "3  76.450000  0.201267   619.7617  0.681374  0.783749   0.0   7.269243   \n",
       "4  67.053312  0.213011   108.1771  0.701410  0.710626   0.0   6.147158   \n",
       "\n",
       "    opr_cost  total_cost  avg_fluid_rate       location      region  \\\n",
       "0   7.390892   95.512562       61.136190     Jawa Timur        Jawa   \n",
       "1   0.482584   16.833404        8.260639     Jawa Barat        Jawa   \n",
       "2   5.444560   36.657540        0.209892     Jawa Barat        Jawa   \n",
       "3  15.765420   23.034663       15.833870  Selat Makasar  Kalimantan   \n",
       "4   1.867879    8.015037        6.929915           Riau    Sumatera   \n",
       "\n",
       "          NPV         PI  prospect_rank  \n",
       "0  219.373400   2.296802              1  \n",
       "1    6.763115   0.401768              0  \n",
       "2   25.005370   0.682134              0  \n",
       "3    3.810051   0.165405              2  \n",
       "4  112.446500  14.029442              1  "
      ]
     },
     "execution_count": 425,
     "metadata": {},
     "output_type": "execute_result"
    }
   ],
   "source": [
    "pd.options.display.max_columns = None\n",
    "esdc_df.head()"
   ]
  },
  {
   "cell_type": "markdown",
   "metadata": {},
   "source": [
    "> We dont need all operators name on this analysis because we believe it will not deliver significant information regarding field economic. Instead, we are going to replace those name by Pertamina & Non-Pertamina to separate NoC and others."
   ]
  },
  {
   "cell_type": "code",
   "execution_count": 426,
   "metadata": {},
   "outputs": [],
   "source": [
    "pd.options.display.max_rows = None"
   ]
  },
  {
   "cell_type": "code",
   "execution_count": 427,
   "metadata": {},
   "outputs": [
    {
     "data": {
      "text/plain": [
       "PT PERTAMINA EP                                      186\n",
       "PT PERTAMINA HULU ENERGI OFFSHORE NORTH WEST JAVA     63\n",
       "PT PERTAMINA HULU MAHAKAM                             39\n",
       "PT PERTAMINA HULU KALIMANTAN TIMUR                    32\n",
       "PT PERTAMINA HULU ROKAN                               23\n",
       "CONOCOPHILLIPS (GRISSIK) LTD.                         22\n",
       "MEDCO E&P NATUNA LTD.                                 20\n",
       "PREMIER OIL NATUNA SEA B.V.                           17\n",
       "PT PERTAMINA HULU ENERGI OSES                         15\n",
       "PETROGAS (BASIN) LTD.                                 14\n",
       "BP BERAU LTD.                                         14\n",
       "PETROCHINA INTERNATIONAL JABUNG LTD.                  13\n",
       "PT MEDCO E&P INDONESIA                                12\n",
       "PT PERTAMINA HULU ENERGI WEST MADURA OFFSHORE         11\n",
       "JOB PERTAMINA - MEDCO E&P SIMENGGARIS                  9\n",
       "EMP MALACCA STRAIT S.A.                                9\n",
       "PT. Pertamina Hulu Energi (PHE) NSB                    8\n",
       "PT PERTAMINA HULU ENERGI NORTH SUMATERA OFFSHORE       8\n",
       "HUSKY-CNOOC MADURA LTD.                                7\n",
       "PT PERTAMINA HULU SANGA SANGA                          7\n",
       "EMP BENTU LTD.                                         6\n",
       "PT MEDCO E&P TARAKAN                                   6\n",
       "STAR ENERGY (KAKAP) LTD.                               6\n",
       "PT MEDCO E&P MALAKA                                    6\n",
       "GENTING OIL KASURI PTE. LTD.                           6\n",
       "PETROGAS (ISLAND) LTD.                                 6\n",
       "BOB PERTAMINA - BUMI SIAK PUSAKO                       6\n",
       "PT PERTAMINA HULU ENERGI JAMBI MERANG                  6\n",
       "SANTOS (MADURA OFFSHORE) PTY. LTD.                     5\n",
       "PT PERTAMINA HULU ENERGI OGAN KOMERING                 5\n",
       "PT PERTAMINA HULU ENERGI TUBAN EAST JAVA               5\n",
       "MONTD'OR OIL TUNGKAL LTD.                              5\n",
       "CITIC SERAM ENERGY LTD.                                5\n",
       "LAPINDO BRANTAS INC.                                   5\n",
       "KANGEAN ENERGY INDONESIA LTD.                          5\n",
       "PT MEDCO E&P LEMATANG                                  5\n",
       "PHE NUNUKAN CO.                                        5\n",
       "PT PERTAMINA HULU ENERGI SIAK                          5\n",
       "ENERGY EQUITY EPIC (SENGKANG) PTY. LTD.                5\n",
       "EMP KORINCI BARU LTD.                                  4\n",
       "PETROCHINA INTERNATIONAL BANGKO LTD.                   4\n",
       "Jindi South Jambi B Co. Ltd                            4\n",
       "EXXONMOBIL CEPU LTD.                                   4\n",
       "BP WIRIAGAR LTD.                                       4\n",
       "CHEVRON GANAL LTD.                                     4\n",
       "JOB PERTAMINA - MEDCO E&P TOMORI SULAWESI              3\n",
       "TRIANGLE PASE INC.                                     3\n",
       "PT MEDCO E&P RIMAU                                     3\n",
       "PT PERTAMINA HULU ENERGI RAJA TEMPIRAI                 3\n",
       "STARBORN ENERGY BONTANG PTE. LTD.                      3\n",
       "SAKA INDONESIA PANGKAH LTD.                            3\n",
       "BP MUTURI HOLDINGS B.V.                                3\n",
       "KALREZ PETROLEUM (SERAM) LTD.                          2\n",
       "NORTH SOKANG ENERGY LTD.                               2\n",
       "SANTOS (SAMPANG) PTY. LTD.                             2\n",
       "PT. SELE RAYA MERANGIN DUA                             2\n",
       "PT GREGORY GAS PERKASA                                 2\n",
       "PT PERTAMINA HULU ENERGI ABAR                          2\n",
       "TIS Petroleum E&P Blora Pte. Ltd                       2\n",
       "PT SUMATRA GLOBAL ENERGI                               2\n",
       "PT PERTAMINA HULU ENERGI KAMPAR                        2\n",
       "PT ODIRA ENERGY KARANG AGUNG                           2\n",
       "EMP GEBANG LTD.                                        2\n",
       "ENI EAST SEPINGGAN LTD.                                2\n",
       "ENI MUARA BAKAU B.V.                                   2\n",
       "CHEVRON RAPAK LTD.                                     2\n",
       "PC KETAPANG II LTD.                                    1\n",
       "MONTD'OR (SALAWATI) LTD.                               1\n",
       "CAELUS ENERGY SOUTH BENGARA II PTE. LTD.               1\n",
       "PT EMP TONGA                                           1\n",
       "PT SAKA INDONESIA SESULU                               1\n",
       "PT MANDIRI PANCA USAHA                                 1\n",
       "ENI WEST GANAL LTD.                                    1\n",
       "PT PERTAMINA HULU ENERGI RANDUGUNTING                  1\n",
       "PT BENUO TAKA WAILAWI                                  1\n",
       "ENI NORTH GANAL LTD.                                   1\n",
       "KUFPEC INDONESIA (ANAMBAS) B.V.                        1\n",
       "TATELY N.V.                                            1\n",
       "ENI (KRUENG MANE)                                      1\n",
       "TALISMAN SAKAKEMANG B.V.                               1\n",
       "KRISENERGY (SAKTI) B.V.                                1\n",
       "OPHIR INDONESIA (BANGKANAI) LTD.                       1\n",
       "PEARL OIL (SEBUKU) LTD.                                1\n",
       "PT. SELE RAYA BELIDA                                   1\n",
       "PT PERTAMINA EP CEPU ADK                               1\n",
       "KRISENERGY (SATRIA) LTD.                               1\n",
       "WEST NATUNA EXPLORATION LTD.                           1\n",
       "ZARATEX N.V.                                           1\n",
       "INPEX MASELA LTD.                                      1\n",
       "PT RIZKI BUKIT BARISAN ENERGI                          1\n",
       "PT PANDAWA PRIMA LESTARI                               1\n",
       "PC MURIAH LTD.                                         1\n",
       "MANHATTAN KALIMANTAN INVESTMENT PTE. LTD.              1\n",
       "PT MEDCO E&P BENGARA                                   1\n",
       "SANTOS NORTHWEST NATUNA B.V.                           1\n",
       "Name: operator, dtype: int64"
      ]
     },
     "execution_count": 427,
     "metadata": {},
     "output_type": "execute_result"
    }
   ],
   "source": [
    "esdc_df.operator.value_counts()"
   ]
  },
  {
   "cell_type": "code",
   "execution_count": 428,
   "metadata": {},
   "outputs": [],
   "source": [
    "esdc_df['operator'] = esdc_df.apply(lambda row: 'PERTAMINA' if ('PERTAMINA' in row['operator']) else 'NON_PERTAMINA', axis=1)"
   ]
  },
  {
   "cell_type": "code",
   "execution_count": 429,
   "metadata": {},
   "outputs": [
    {
     "data": {
      "text/plain": [
       "PERTAMINA        432\n",
       "NON_PERTAMINA    302\n",
       "Name: operator, dtype: int64"
      ]
     },
     "execution_count": 429,
     "metadata": {},
     "output_type": "execute_result"
    }
   ],
   "source": [
    "esdc_df.operator.value_counts()"
   ]
  },
  {
   "cell_type": "markdown",
   "metadata": {},
   "source": [
    "---\n",
    "__Features Droping__"
   ]
  },
  {
   "cell_type": "markdown",
   "metadata": {},
   "source": [
    "> Based on analysis that has been done we will drop some features that are not relevant anymore for further evaluation and modeling. Those features were critical when we modeled the `depth`, `temp`, `prospect_rank` and performed statistical independence test. Those features are :\n",
    "- `field_name`\n",
    "- `project_level`\n",
    "- `cap_cost`\n",
    "- `opr_cost`\n",
    "- `total_cost`\n",
    "- `NPV`\n",
    "- `PI`"
   ]
  },
  {
   "cell_type": "code",
   "execution_count": 430,
   "metadata": {},
   "outputs": [],
   "source": [
    "esdc_feat_df = esdc_df.drop(columns=['field_name', 'project_level', 'cap_cost', 'opr_cost','total_cost', 'NPV', 'PI'])"
   ]
  },
  {
   "cell_type": "code",
   "execution_count": 431,
   "metadata": {},
   "outputs": [],
   "source": [
    "esdc_feat_df.to_csv('Data/esdc_feat_df.csv', index=False)"
   ]
  },
  {
   "cell_type": "code",
   "execution_count": 432,
   "metadata": {},
   "outputs": [
    {
     "data": {
      "text/html": [
       "<div>\n",
       "<style scoped>\n",
       "    .dataframe tbody tr th:only-of-type {\n",
       "        vertical-align: middle;\n",
       "    }\n",
       "\n",
       "    .dataframe tbody tr th {\n",
       "        vertical-align: top;\n",
       "    }\n",
       "\n",
       "    .dataframe thead th {\n",
       "        text-align: right;\n",
       "    }\n",
       "</style>\n",
       "<table border=\"1\" class=\"dataframe\">\n",
       "  <thead>\n",
       "    <tr style=\"text-align: right;\">\n",
       "      <th></th>\n",
       "      <th>fluid</th>\n",
       "      <th>operator</th>\n",
       "      <th>project_status</th>\n",
       "      <th>inplace</th>\n",
       "      <th>depth</th>\n",
       "      <th>temp</th>\n",
       "      <th>poro</th>\n",
       "      <th>perm</th>\n",
       "      <th>saturate</th>\n",
       "      <th>api_dens</th>\n",
       "      <th>visc</th>\n",
       "      <th>avg_fluid_rate</th>\n",
       "      <th>location</th>\n",
       "      <th>region</th>\n",
       "      <th>prospect_rank</th>\n",
       "    </tr>\n",
       "  </thead>\n",
       "  <tbody>\n",
       "    <tr>\n",
       "      <th>0</th>\n",
       "      <td>Gas</td>\n",
       "      <td>NON_PERTAMINA</td>\n",
       "      <td>ONSHORE</td>\n",
       "      <td>280.00</td>\n",
       "      <td>5627.0</td>\n",
       "      <td>97.537911</td>\n",
       "      <td>0.231540</td>\n",
       "      <td>396.2948</td>\n",
       "      <td>0.544649</td>\n",
       "      <td>0.654735</td>\n",
       "      <td>0.0</td>\n",
       "      <td>61.136190</td>\n",
       "      <td>Jawa Timur</td>\n",
       "      <td>Jawa</td>\n",
       "      <td>1</td>\n",
       "    </tr>\n",
       "    <tr>\n",
       "      <th>1</th>\n",
       "      <td>Gas</td>\n",
       "      <td>PERTAMINA</td>\n",
       "      <td>OFFSHORE</td>\n",
       "      <td>5.00</td>\n",
       "      <td>1588.0</td>\n",
       "      <td>60.754449</td>\n",
       "      <td>0.371649</td>\n",
       "      <td>975.0449</td>\n",
       "      <td>0.586189</td>\n",
       "      <td>0.769757</td>\n",
       "      <td>0.0</td>\n",
       "      <td>8.260639</td>\n",
       "      <td>Jawa Barat</td>\n",
       "      <td>Jawa</td>\n",
       "      <td>0</td>\n",
       "    </tr>\n",
       "    <tr>\n",
       "      <th>2</th>\n",
       "      <td>Gas</td>\n",
       "      <td>PERTAMINA</td>\n",
       "      <td>OFFSHORE</td>\n",
       "      <td>17.31</td>\n",
       "      <td>3775.0</td>\n",
       "      <td>84.004423</td>\n",
       "      <td>0.350870</td>\n",
       "      <td>1985.5620</td>\n",
       "      <td>0.627856</td>\n",
       "      <td>0.774667</td>\n",
       "      <td>0.0</td>\n",
       "      <td>0.209892</td>\n",
       "      <td>Jawa Barat</td>\n",
       "      <td>Jawa</td>\n",
       "      <td>0</td>\n",
       "    </tr>\n",
       "    <tr>\n",
       "      <th>3</th>\n",
       "      <td>Gas</td>\n",
       "      <td>PERTAMINA</td>\n",
       "      <td>BOTH</td>\n",
       "      <td>7135.00</td>\n",
       "      <td>6383.0</td>\n",
       "      <td>76.450000</td>\n",
       "      <td>0.201267</td>\n",
       "      <td>619.7617</td>\n",
       "      <td>0.681374</td>\n",
       "      <td>0.783749</td>\n",
       "      <td>0.0</td>\n",
       "      <td>15.833870</td>\n",
       "      <td>Selat Makasar</td>\n",
       "      <td>Kalimantan</td>\n",
       "      <td>2</td>\n",
       "    </tr>\n",
       "    <tr>\n",
       "      <th>4</th>\n",
       "      <td>Gas</td>\n",
       "      <td>NON_PERTAMINA</td>\n",
       "      <td>ONSHORE</td>\n",
       "      <td>15.90</td>\n",
       "      <td>2067.0</td>\n",
       "      <td>67.053312</td>\n",
       "      <td>0.213011</td>\n",
       "      <td>108.1771</td>\n",
       "      <td>0.701410</td>\n",
       "      <td>0.710626</td>\n",
       "      <td>0.0</td>\n",
       "      <td>6.929915</td>\n",
       "      <td>Riau</td>\n",
       "      <td>Sumatera</td>\n",
       "      <td>1</td>\n",
       "    </tr>\n",
       "  </tbody>\n",
       "</table>\n",
       "</div>"
      ],
      "text/plain": [
       "  fluid       operator project_status  inplace   depth       temp      poro  \\\n",
       "0   Gas  NON_PERTAMINA        ONSHORE   280.00  5627.0  97.537911  0.231540   \n",
       "1   Gas      PERTAMINA       OFFSHORE     5.00  1588.0  60.754449  0.371649   \n",
       "2   Gas      PERTAMINA       OFFSHORE    17.31  3775.0  84.004423  0.350870   \n",
       "3   Gas      PERTAMINA           BOTH  7135.00  6383.0  76.450000  0.201267   \n",
       "4   Gas  NON_PERTAMINA        ONSHORE    15.90  2067.0  67.053312  0.213011   \n",
       "\n",
       "        perm  saturate  api_dens  visc  avg_fluid_rate       location  \\\n",
       "0   396.2948  0.544649  0.654735   0.0       61.136190     Jawa Timur   \n",
       "1   975.0449  0.586189  0.769757   0.0        8.260639     Jawa Barat   \n",
       "2  1985.5620  0.627856  0.774667   0.0        0.209892     Jawa Barat   \n",
       "3   619.7617  0.681374  0.783749   0.0       15.833870  Selat Makasar   \n",
       "4   108.1771  0.701410  0.710626   0.0        6.929915           Riau   \n",
       "\n",
       "       region  prospect_rank  \n",
       "0        Jawa              1  \n",
       "1        Jawa              0  \n",
       "2        Jawa              0  \n",
       "3  Kalimantan              2  \n",
       "4    Sumatera              1  "
      ]
     },
     "execution_count": 432,
     "metadata": {},
     "output_type": "execute_result"
    }
   ],
   "source": [
    "pd.read_csv('Data/esdc_feat_df.csv').head()"
   ]
  },
  {
   "cell_type": "code",
   "execution_count": 435,
   "metadata": {},
   "outputs": [
    {
     "data": {
      "text/plain": [
       "fluid    prospect_rank\n",
       "Gas      0                   383.108143\n",
       "         1                   951.769382\n",
       "         2                  1211.872558\n",
       "Oil      0                 11084.743596\n",
       "         1                 34358.696775\n",
       "Oil-Gas  0                 28182.310787\n",
       "         1                289926.692701\n",
       "         2                267120.417000\n",
       "Name: inplace, dtype: float64"
      ]
     },
     "execution_count": 435,
     "metadata": {},
     "output_type": "execute_result"
    }
   ],
   "source": [
    "esdc_feat_df.groupby(['fluid','prospect_rank'])['inplace'].mean()"
   ]
  }
 ],
 "metadata": {
  "interpreter": {
   "hash": "8803dc253b2162a5ca59873287dcbf3528ac00a3a10b38c440b3c6641036ef3e"
  },
  "kernelspec": {
   "display_name": "Python 3.8.8 ('base')",
   "language": "python",
   "name": "python3"
  },
  "language_info": {
   "codemirror_mode": {
    "name": "ipython",
    "version": 3
   },
   "file_extension": ".py",
   "mimetype": "text/x-python",
   "name": "python",
   "nbconvert_exporter": "python",
   "pygments_lexer": "ipython3",
   "version": "3.8.8"
  },
  "orig_nbformat": 4
 },
 "nbformat": 4,
 "nbformat_minor": 2
}
